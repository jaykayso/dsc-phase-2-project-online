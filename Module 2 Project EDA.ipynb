{
 "cells": [
  {
   "cell_type": "markdown",
   "metadata": {},
   "source": [
    "# Module 2 Project: Exploratory Data Analysis"
   ]
  },
  {
   "cell_type": "code",
   "execution_count": 1,
   "metadata": {},
   "outputs": [],
   "source": [
    "import pandas as pd\n",
    "import numpy as np\n",
    "import seaborn as sns\n",
    "import plotly.offline as pyo\n",
    "from string import ascii_letters\n",
    "from statsmodels.formula.api import ols\n",
    "import pickle\n",
    "from sklearn.preprocessing import StandardScaler\n",
    "import matplotlib.pyplot as plt\n",
    "%matplotlib inline\n",
    "from statsmodels.stats.outliers_influence import variance_inflation_factor"
   ]
  },
  {
   "cell_type": "code",
   "execution_count": 2,
   "metadata": {},
   "outputs": [],
   "source": [
    "with open('new_df.pkl', 'rb') as pickle_file:\n",
    "    new_df = pickle.load(pickle_file)"
   ]
  },
  {
   "cell_type": "code",
   "execution_count": 3,
   "metadata": {},
   "outputs": [],
   "source": [
    "with open('stan_df.pkl', 'rb') as pickle_file:\n",
    "    stan_df = pickle.load(pickle_file)"
   ]
  },
  {
   "cell_type": "code",
   "execution_count": 4,
   "metadata": {},
   "outputs": [
    {
     "data": {
      "text/html": [
       "<div>\n",
       "<style scoped>\n",
       "    .dataframe tbody tr th:only-of-type {\n",
       "        vertical-align: middle;\n",
       "    }\n",
       "\n",
       "    .dataframe tbody tr th {\n",
       "        vertical-align: top;\n",
       "    }\n",
       "\n",
       "    .dataframe thead th {\n",
       "        text-align: right;\n",
       "    }\n",
       "</style>\n",
       "<table border=\"1\" class=\"dataframe\">\n",
       "  <thead>\n",
       "    <tr style=\"text-align: right;\">\n",
       "      <th></th>\n",
       "      <th>bathrooms</th>\n",
       "      <th>bedrooms</th>\n",
       "      <th>condition</th>\n",
       "      <th>floors</th>\n",
       "      <th>grade</th>\n",
       "      <th>price</th>\n",
       "      <th>sqft_above</th>\n",
       "      <th>sqft_basement</th>\n",
       "      <th>sqft_living</th>\n",
       "      <th>sqft_lot</th>\n",
       "      <th>view</th>\n",
       "      <th>yr_built</th>\n",
       "      <th>yr_renovated</th>\n",
       "      <th>pop_bin</th>\n",
       "      <th>sqft_non_living</th>\n",
       "      <th>box_cox_condition</th>\n",
       "      <th>living_fraction</th>\n",
       "    </tr>\n",
       "  </thead>\n",
       "  <tbody>\n",
       "    <tr>\n",
       "      <th>0</th>\n",
       "      <td>2.25</td>\n",
       "      <td>3.0</td>\n",
       "      <td>3.0</td>\n",
       "      <td>2.0</td>\n",
       "      <td>7.0</td>\n",
       "      <td>257500.0</td>\n",
       "      <td>1715.0</td>\n",
       "      <td>0.0</td>\n",
       "      <td>1715.0</td>\n",
       "      <td>6819.0</td>\n",
       "      <td>0.0</td>\n",
       "      <td>1995.0</td>\n",
       "      <td>0.0</td>\n",
       "      <td>4.0</td>\n",
       "      <td>5104.0</td>\n",
       "      <td>0.936034</td>\n",
       "      <td>0.251503</td>\n",
       "    </tr>\n",
       "    <tr>\n",
       "      <th>1</th>\n",
       "      <td>1.00</td>\n",
       "      <td>2.0</td>\n",
       "      <td>4.0</td>\n",
       "      <td>1.0</td>\n",
       "      <td>7.0</td>\n",
       "      <td>189000.0</td>\n",
       "      <td>1200.0</td>\n",
       "      <td>0.0</td>\n",
       "      <td>1200.0</td>\n",
       "      <td>9850.0</td>\n",
       "      <td>0.0</td>\n",
       "      <td>1921.0</td>\n",
       "      <td>0.0</td>\n",
       "      <td>5.0</td>\n",
       "      <td>8650.0</td>\n",
       "      <td>1.134321</td>\n",
       "      <td>0.121827</td>\n",
       "    </tr>\n",
       "    <tr>\n",
       "      <th>2</th>\n",
       "      <td>2.75</td>\n",
       "      <td>5.0</td>\n",
       "      <td>3.0</td>\n",
       "      <td>2.0</td>\n",
       "      <td>9.0</td>\n",
       "      <td>861990.0</td>\n",
       "      <td>3595.0</td>\n",
       "      <td>0.0</td>\n",
       "      <td>3595.0</td>\n",
       "      <td>5639.0</td>\n",
       "      <td>0.0</td>\n",
       "      <td>2014.0</td>\n",
       "      <td>0.0</td>\n",
       "      <td>1.0</td>\n",
       "      <td>2044.0</td>\n",
       "      <td>0.936034</td>\n",
       "      <td>0.637524</td>\n",
       "    </tr>\n",
       "    <tr>\n",
       "      <th>3</th>\n",
       "      <td>2.50</td>\n",
       "      <td>4.0</td>\n",
       "      <td>3.0</td>\n",
       "      <td>2.0</td>\n",
       "      <td>10.0</td>\n",
       "      <td>720000.0</td>\n",
       "      <td>3450.0</td>\n",
       "      <td>0.0</td>\n",
       "      <td>3450.0</td>\n",
       "      <td>39683.0</td>\n",
       "      <td>0.0</td>\n",
       "      <td>2002.0</td>\n",
       "      <td>0.0</td>\n",
       "      <td>1.0</td>\n",
       "      <td>36233.0</td>\n",
       "      <td>0.936034</td>\n",
       "      <td>0.086939</td>\n",
       "    </tr>\n",
       "    <tr>\n",
       "      <th>4</th>\n",
       "      <td>1.75</td>\n",
       "      <td>3.0</td>\n",
       "      <td>4.0</td>\n",
       "      <td>1.0</td>\n",
       "      <td>7.0</td>\n",
       "      <td>272500.0</td>\n",
       "      <td>1160.0</td>\n",
       "      <td>380.0</td>\n",
       "      <td>1540.0</td>\n",
       "      <td>12600.0</td>\n",
       "      <td>0.0</td>\n",
       "      <td>1980.0</td>\n",
       "      <td>0.0</td>\n",
       "      <td>1.0</td>\n",
       "      <td>11060.0</td>\n",
       "      <td>1.134321</td>\n",
       "      <td>0.122222</td>\n",
       "    </tr>\n",
       "  </tbody>\n",
       "</table>\n",
       "</div>"
      ],
      "text/plain": [
       "   bathrooms  bedrooms  condition  floors  grade     price  sqft_above  \\\n",
       "0       2.25       3.0        3.0     2.0    7.0  257500.0      1715.0   \n",
       "1       1.00       2.0        4.0     1.0    7.0  189000.0      1200.0   \n",
       "2       2.75       5.0        3.0     2.0    9.0  861990.0      3595.0   \n",
       "3       2.50       4.0        3.0     2.0   10.0  720000.0      3450.0   \n",
       "4       1.75       3.0        4.0     1.0    7.0  272500.0      1160.0   \n",
       "\n",
       "   sqft_basement  sqft_living  sqft_lot  view  yr_built  yr_renovated  \\\n",
       "0            0.0       1715.0    6819.0   0.0    1995.0           0.0   \n",
       "1            0.0       1200.0    9850.0   0.0    1921.0           0.0   \n",
       "2            0.0       3595.0    5639.0   0.0    2014.0           0.0   \n",
       "3            0.0       3450.0   39683.0   0.0    2002.0           0.0   \n",
       "4          380.0       1540.0   12600.0   0.0    1980.0           0.0   \n",
       "\n",
       "   pop_bin  sqft_non_living  box_cox_condition  living_fraction  \n",
       "0      4.0           5104.0           0.936034         0.251503  \n",
       "1      5.0           8650.0           1.134321         0.121827  \n",
       "2      1.0           2044.0           0.936034         0.637524  \n",
       "3      1.0          36233.0           0.936034         0.086939  \n",
       "4      1.0          11060.0           1.134321         0.122222  "
      ]
     },
     "execution_count": 4,
     "metadata": {},
     "output_type": "execute_result"
    }
   ],
   "source": [
    "new_df.head()"
   ]
  },
  {
   "cell_type": "code",
   "execution_count": 5,
   "metadata": {
    "scrolled": false
   },
   "outputs": [
    {
     "data": {
      "text/html": [
       "<div>\n",
       "<style scoped>\n",
       "    .dataframe tbody tr th:only-of-type {\n",
       "        vertical-align: middle;\n",
       "    }\n",
       "\n",
       "    .dataframe tbody tr th {\n",
       "        vertical-align: top;\n",
       "    }\n",
       "\n",
       "    .dataframe thead th {\n",
       "        text-align: right;\n",
       "    }\n",
       "</style>\n",
       "<table border=\"1\" class=\"dataframe\">\n",
       "  <thead>\n",
       "    <tr style=\"text-align: right;\">\n",
       "      <th></th>\n",
       "      <th>bathrooms</th>\n",
       "      <th>bedrooms</th>\n",
       "      <th>condition</th>\n",
       "      <th>floors</th>\n",
       "      <th>grade</th>\n",
       "      <th>price</th>\n",
       "      <th>sqft_above</th>\n",
       "      <th>sqft_basement</th>\n",
       "      <th>sqft_living</th>\n",
       "      <th>sqft_lot</th>\n",
       "      <th>view</th>\n",
       "      <th>yr_built</th>\n",
       "      <th>yr_renovated</th>\n",
       "      <th>pop_bin</th>\n",
       "      <th>sqft_non_living</th>\n",
       "      <th>box_cox_condition</th>\n",
       "      <th>living_fraction</th>\n",
       "    </tr>\n",
       "  </thead>\n",
       "  <tbody>\n",
       "    <tr>\n",
       "      <th>0</th>\n",
       "      <td>0.174461</td>\n",
       "      <td>-0.411272</td>\n",
       "      <td>-0.629946</td>\n",
       "      <td>0.937385</td>\n",
       "      <td>-0.560817</td>\n",
       "      <td>-0.769779</td>\n",
       "      <td>-0.088954</td>\n",
       "      <td>-0.658992</td>\n",
       "      <td>-0.397934</td>\n",
       "      <td>-0.199959</td>\n",
       "      <td>-0.304956</td>\n",
       "      <td>0.817001</td>\n",
       "      <td>-0.188886</td>\n",
       "      <td>-0.243266</td>\n",
       "      <td>-0.191829</td>\n",
       "      <td>-0.599658</td>\n",
       "      <td>-0.269146</td>\n",
       "    </tr>\n",
       "    <tr>\n",
       "      <th>1</th>\n",
       "      <td>-1.451069</td>\n",
       "      <td>-1.517353</td>\n",
       "      <td>0.907438</td>\n",
       "      <td>-0.915591</td>\n",
       "      <td>-0.560817</td>\n",
       "      <td>-0.956241</td>\n",
       "      <td>-0.711127</td>\n",
       "      <td>-0.658992</td>\n",
       "      <td>-0.958874</td>\n",
       "      <td>-0.126769</td>\n",
       "      <td>-0.304956</td>\n",
       "      <td>-1.702167</td>\n",
       "      <td>-0.188886</td>\n",
       "      <td>0.104560</td>\n",
       "      <td>-0.105893</td>\n",
       "      <td>0.980510</td>\n",
       "      <td>-0.752182</td>\n",
       "    </tr>\n",
       "    <tr>\n",
       "      <th>2</th>\n",
       "      <td>0.824672</td>\n",
       "      <td>1.800890</td>\n",
       "      <td>-0.629946</td>\n",
       "      <td>0.937385</td>\n",
       "      <td>1.143935</td>\n",
       "      <td>0.875685</td>\n",
       "      <td>2.182279</td>\n",
       "      <td>-0.658992</td>\n",
       "      <td>1.649772</td>\n",
       "      <td>-0.228453</td>\n",
       "      <td>-0.304956</td>\n",
       "      <td>1.463814</td>\n",
       "      <td>-0.188886</td>\n",
       "      <td>-1.286744</td>\n",
       "      <td>-0.265987</td>\n",
       "      <td>-0.599658</td>\n",
       "      <td>1.168765</td>\n",
       "    </tr>\n",
       "    <tr>\n",
       "      <th>3</th>\n",
       "      <td>0.499567</td>\n",
       "      <td>0.694809</td>\n",
       "      <td>-0.629946</td>\n",
       "      <td>0.937385</td>\n",
       "      <td>1.996311</td>\n",
       "      <td>0.489178</td>\n",
       "      <td>2.007104</td>\n",
       "      <td>-0.658992</td>\n",
       "      <td>1.491837</td>\n",
       "      <td>0.593616</td>\n",
       "      <td>-0.304956</td>\n",
       "      <td>1.055300</td>\n",
       "      <td>-0.188886</td>\n",
       "      <td>-1.286744</td>\n",
       "      <td>0.562571</td>\n",
       "      <td>-0.599658</td>\n",
       "      <td>-0.882140</td>\n",
       "    </tr>\n",
       "    <tr>\n",
       "      <th>4</th>\n",
       "      <td>-0.475751</td>\n",
       "      <td>-0.411272</td>\n",
       "      <td>0.907438</td>\n",
       "      <td>-0.915591</td>\n",
       "      <td>-0.560817</td>\n",
       "      <td>-0.728948</td>\n",
       "      <td>-0.759452</td>\n",
       "      <td>0.199448</td>\n",
       "      <td>-0.588545</td>\n",
       "      <td>-0.060364</td>\n",
       "      <td>-0.304956</td>\n",
       "      <td>0.306358</td>\n",
       "      <td>-0.188886</td>\n",
       "      <td>-1.286744</td>\n",
       "      <td>-0.047487</td>\n",
       "      <td>0.980510</td>\n",
       "      <td>-0.750711</td>\n",
       "    </tr>\n",
       "  </tbody>\n",
       "</table>\n",
       "</div>"
      ],
      "text/plain": [
       "   bathrooms  bedrooms  condition    floors     grade     price  sqft_above  \\\n",
       "0   0.174461 -0.411272  -0.629946  0.937385 -0.560817 -0.769779   -0.088954   \n",
       "1  -1.451069 -1.517353   0.907438 -0.915591 -0.560817 -0.956241   -0.711127   \n",
       "2   0.824672  1.800890  -0.629946  0.937385  1.143935  0.875685    2.182279   \n",
       "3   0.499567  0.694809  -0.629946  0.937385  1.996311  0.489178    2.007104   \n",
       "4  -0.475751 -0.411272   0.907438 -0.915591 -0.560817 -0.728948   -0.759452   \n",
       "\n",
       "   sqft_basement  sqft_living  sqft_lot      view  yr_built  yr_renovated  \\\n",
       "0      -0.658992    -0.397934 -0.199959 -0.304956  0.817001     -0.188886   \n",
       "1      -0.658992    -0.958874 -0.126769 -0.304956 -1.702167     -0.188886   \n",
       "2      -0.658992     1.649772 -0.228453 -0.304956  1.463814     -0.188886   \n",
       "3      -0.658992     1.491837  0.593616 -0.304956  1.055300     -0.188886   \n",
       "4       0.199448    -0.588545 -0.060364 -0.304956  0.306358     -0.188886   \n",
       "\n",
       "    pop_bin  sqft_non_living  box_cox_condition  living_fraction  \n",
       "0 -0.243266        -0.191829          -0.599658        -0.269146  \n",
       "1  0.104560        -0.105893           0.980510        -0.752182  \n",
       "2 -1.286744        -0.265987          -0.599658         1.168765  \n",
       "3 -1.286744         0.562571          -0.599658        -0.882140  \n",
       "4 -1.286744        -0.047487           0.980510        -0.750711  "
      ]
     },
     "execution_count": 5,
     "metadata": {},
     "output_type": "execute_result"
    }
   ],
   "source": [
    "stan_df.head()"
   ]
  },
  {
   "cell_type": "markdown",
   "metadata": {},
   "source": [
    "### Distribution of variables can be inspected."
   ]
  },
  {
   "cell_type": "code",
   "execution_count": 6,
   "metadata": {},
   "outputs": [
    {
     "data": {
      "image/png": "[encoded data removed]",
      "text/plain": [
       "<Figure size 1800x1800 with 20 Axes>"
      ]
     },
     "metadata": {
      "needs_background": "light"
     },
     "output_type": "display_data"
    }
   ],
   "source": [
    "import warnings\n",
    "warnings.filterwarnings('ignore')\n",
    "fig = plt.figure(figsize = (25,25))\n",
    "ax = fig.gca()\n",
    "stan_df.hist(ax = ax);"
   ]
  },
  {
   "cell_type": "markdown",
   "metadata": {},
   "source": [
    "### The relationships between input variables and property price can be analysed."
   ]
  },
  {
   "cell_type": "code",
   "execution_count": 7,
   "metadata": {},
   "outputs": [
    {
     "data": {
      "image/png": "[encoded data removed]",
      "text/plain": [
       "<Figure size 1728x3024 with 18 Axes>"
      ]
     },
     "metadata": {
      "needs_background": "light"
     },
     "output_type": "display_data"
    }
   ],
   "source": [
    "fig, axs = plt.subplots(6,3)\n",
    "fig.set_figwidth(24)\n",
    "fig.set_figheight(42)\n",
    "for ax, col in zip(axs.flat, stan_df.columns):\n",
    "    try:\n",
    "        ax.scatter(x=col, y='price', data=stan_df)\n",
    "        ax.set_title(col)\n",
    "    except:\n",
    "        ax.set_title(col)\n",
    "        continue"
   ]
  },
  {
   "cell_type": "code",
   "execution_count": 8,
   "metadata": {},
   "outputs": [],
   "source": [
    "#breusch-pagan or cook-weisberg"
   ]
  },
  {
   "cell_type": "code",
   "execution_count": null,
   "metadata": {},
   "outputs": [],
   "source": []
  },
  {
   "cell_type": "code",
   "execution_count": null,
   "metadata": {},
   "outputs": [],
   "source": []
  },
  {
   "cell_type": "code",
   "execution_count": null,
   "metadata": {},
   "outputs": [],
   "source": []
  },
  {
   "cell_type": "markdown",
   "metadata": {},
   "source": [
    "# VIF testing will test for multicolinearity. "
   ]
  },
  {
   "cell_type": "markdown",
   "metadata": {},
   "source": [
    "VIF of greater than 5 indicates multicolinearity."
   ]
  },
  {
   "cell_type": "code",
   "execution_count": 9,
   "metadata": {},
   "outputs": [],
   "source": [
    "from statsmodels.stats.outliers_influence import variance_inflation_factor"
   ]
  },
  {
   "cell_type": "code",
   "execution_count": 13,
   "metadata": {},
   "outputs": [
    {
     "data": {
      "text/plain": [
       "Index(['bathrooms', 'bedrooms', 'condition', 'floors', 'grade', 'price',\n",
       "       'sqft_above', 'sqft_basement', 'sqft_living', 'sqft_lot', 'view',\n",
       "       'yr_built', 'yr_renovated', 'pop_bin', 'sqft_non_living',\n",
       "       'box_cox_condition', 'living_fraction'],\n",
       "      dtype='object')"
      ]
     },
     "execution_count": 13,
     "metadata": {},
     "output_type": "execute_result"
    }
   ],
   "source": [
    "stan_df.columns"
   ]
  },
  {
   "cell_type": "code",
   "execution_count": 14,
   "metadata": {},
   "outputs": [],
   "source": [
    "outcome = 'price'\n",
    "x_cols = ['bathrooms', 'bedrooms', 'condition', 'floors', 'grade', 'price',\n",
    "       'sqft_above', 'sqft_basement', 'sqft_living', 'sqft_lot', 'view',\n",
    "       'yr_built', 'yr_renovated', 'pop_bin', 'sqft_non_living',\n",
    "       'box_cox_condition', 'living_fraction']"
   ]
  },
  {
   "cell_type": "code",
   "execution_count": 15,
   "metadata": {
    "scrolled": true
   },
   "outputs": [
    {
     "data": {
      "text/plain": [
       "[('bathrooms', 3.4198539935175987),\n",
       " ('bedrooms', 1.7333787597563874),\n",
       " ('condition', 25.18730991001678),\n",
       " ('floors', 2.877339178131465),\n",
       " ('grade', 3.480493335268064),\n",
       " ('price', 2.908080106252036),\n",
       " ('sqft_above', inf),\n",
       " ('sqft_basement', inf),\n",
       " ('sqft_living', inf),\n",
       " ('sqft_lot', inf),\n",
       " ('view', 1.2431389780257645),\n",
       " ('yr_built', 2.853019218531945),\n",
       " ('yr_renovated', 1.1204260374702872),\n",
       " ('pop_bin', 2.0490369941003173),\n",
       " ('sqft_non_living', inf),\n",
       " ('box_cox_condition', 24.403915649077693),\n",
       " ('living_fraction', 2.379920694368773)]"
      ]
     },
     "execution_count": 15,
     "metadata": {},
     "output_type": "execute_result"
    }
   ],
   "source": [
    "X = stan_df[x_cols]\n",
    "vif = [variance_inflation_factor(X.values, i) for i in range(X.shape[1])]\n",
    "list(zip(x_cols, vif))"
   ]
  },
  {
   "cell_type": "markdown",
   "metadata": {},
   "source": [
    "### Eliminating condition, sqft_above, sqft_living, sqft_non_living"
   ]
  },
  {
   "cell_type": "code",
   "execution_count": 40,
   "metadata": {},
   "outputs": [],
   "source": [
    "outcome = 'price'\n",
    "x_cols = ['bathrooms', 'bedrooms', 'floors', 'grade', 'price', 'sqft_basement', \n",
    "          'sqft_lot', 'view',\n",
    "       'yr_built', 'yr_renovated', 'pop_bin',\n",
    "       'box_cox_condition', 'living_fraction']"
   ]
  },
  {
   "cell_type": "code",
   "execution_count": 41,
   "metadata": {
    "scrolled": true
   },
   "outputs": [
    {
     "data": {
      "text/plain": [
       "[('bathrooms', 3.1222400105661974),\n",
       " ('bedrooms', 1.5273326991793972),\n",
       " ('floors', 2.7163418910628683),\n",
       " ('grade', 2.9026668924791954),\n",
       " ('price', 2.5169733264876673),\n",
       " ('sqft_basement', 1.7918571613710728),\n",
       " ('sqft_lot', 1.140265489508877),\n",
       " ('view', 1.2416920151933213),\n",
       " ('yr_built', 2.765945566342881),\n",
       " ('yr_renovated', 1.1122652999297293),\n",
       " ('pop_bin', 1.9122281070312706),\n",
       " ('box_cox_condition', 1.1866819074030968),\n",
       " ('living_fraction', 2.308711574210377)]"
      ]
     },
     "execution_count": 41,
     "metadata": {},
     "output_type": "execute_result"
    }
   ],
   "source": [
    "X = stan_df[x_cols]\n",
    "vif = [variance_inflation_factor(X.values, i) for i in range(X.shape[1])]\n",
    "list(zip(x_cols, vif))"
   ]
  },
  {
   "cell_type": "code",
   "execution_count": 42,
   "metadata": {},
   "outputs": [],
   "source": [
    "outliers_df = stan_df[x_cols]"
   ]
  },
  {
   "cell_type": "code",
   "execution_count": 43,
   "metadata": {},
   "outputs": [
    {
     "data": {
      "text/html": [
       "<div>\n",
       "<style scoped>\n",
       "    .dataframe tbody tr th:only-of-type {\n",
       "        vertical-align: middle;\n",
       "    }\n",
       "\n",
       "    .dataframe tbody tr th {\n",
       "        vertical-align: top;\n",
       "    }\n",
       "\n",
       "    .dataframe thead th {\n",
       "        text-align: right;\n",
       "    }\n",
       "</style>\n",
       "<table border=\"1\" class=\"dataframe\">\n",
       "  <thead>\n",
       "    <tr style=\"text-align: right;\">\n",
       "      <th></th>\n",
       "      <th>bathrooms</th>\n",
       "      <th>bedrooms</th>\n",
       "      <th>floors</th>\n",
       "      <th>grade</th>\n",
       "      <th>price</th>\n",
       "      <th>sqft_basement</th>\n",
       "      <th>sqft_lot</th>\n",
       "      <th>view</th>\n",
       "      <th>yr_built</th>\n",
       "      <th>yr_renovated</th>\n",
       "      <th>pop_bin</th>\n",
       "      <th>box_cox_condition</th>\n",
       "      <th>living_fraction</th>\n",
       "    </tr>\n",
       "  </thead>\n",
       "  <tbody>\n",
       "    <tr>\n",
       "      <th>0</th>\n",
       "      <td>0.174461</td>\n",
       "      <td>-0.411272</td>\n",
       "      <td>0.937385</td>\n",
       "      <td>-0.560817</td>\n",
       "      <td>-0.769779</td>\n",
       "      <td>-0.658992</td>\n",
       "      <td>-0.199959</td>\n",
       "      <td>-0.304956</td>\n",
       "      <td>0.817001</td>\n",
       "      <td>-0.188886</td>\n",
       "      <td>-0.243266</td>\n",
       "      <td>-0.599658</td>\n",
       "      <td>-0.269146</td>\n",
       "    </tr>\n",
       "    <tr>\n",
       "      <th>1</th>\n",
       "      <td>-1.451069</td>\n",
       "      <td>-1.517353</td>\n",
       "      <td>-0.915591</td>\n",
       "      <td>-0.560817</td>\n",
       "      <td>-0.956241</td>\n",
       "      <td>-0.658992</td>\n",
       "      <td>-0.126769</td>\n",
       "      <td>-0.304956</td>\n",
       "      <td>-1.702167</td>\n",
       "      <td>-0.188886</td>\n",
       "      <td>0.104560</td>\n",
       "      <td>0.980510</td>\n",
       "      <td>-0.752182</td>\n",
       "    </tr>\n",
       "    <tr>\n",
       "      <th>2</th>\n",
       "      <td>0.824672</td>\n",
       "      <td>1.800890</td>\n",
       "      <td>0.937385</td>\n",
       "      <td>1.143935</td>\n",
       "      <td>0.875685</td>\n",
       "      <td>-0.658992</td>\n",
       "      <td>-0.228453</td>\n",
       "      <td>-0.304956</td>\n",
       "      <td>1.463814</td>\n",
       "      <td>-0.188886</td>\n",
       "      <td>-1.286744</td>\n",
       "      <td>-0.599658</td>\n",
       "      <td>1.168765</td>\n",
       "    </tr>\n",
       "    <tr>\n",
       "      <th>3</th>\n",
       "      <td>0.499567</td>\n",
       "      <td>0.694809</td>\n",
       "      <td>0.937385</td>\n",
       "      <td>1.996311</td>\n",
       "      <td>0.489178</td>\n",
       "      <td>-0.658992</td>\n",
       "      <td>0.593616</td>\n",
       "      <td>-0.304956</td>\n",
       "      <td>1.055300</td>\n",
       "      <td>-0.188886</td>\n",
       "      <td>-1.286744</td>\n",
       "      <td>-0.599658</td>\n",
       "      <td>-0.882140</td>\n",
       "    </tr>\n",
       "    <tr>\n",
       "      <th>4</th>\n",
       "      <td>-0.475751</td>\n",
       "      <td>-0.411272</td>\n",
       "      <td>-0.915591</td>\n",
       "      <td>-0.560817</td>\n",
       "      <td>-0.728948</td>\n",
       "      <td>0.199448</td>\n",
       "      <td>-0.060364</td>\n",
       "      <td>-0.304956</td>\n",
       "      <td>0.306358</td>\n",
       "      <td>-0.188886</td>\n",
       "      <td>-1.286744</td>\n",
       "      <td>0.980510</td>\n",
       "      <td>-0.750711</td>\n",
       "    </tr>\n",
       "  </tbody>\n",
       "</table>\n",
       "</div>"
      ],
      "text/plain": [
       "   bathrooms  bedrooms    floors     grade     price  sqft_basement  sqft_lot  \\\n",
       "0   0.174461 -0.411272  0.937385 -0.560817 -0.769779      -0.658992 -0.199959   \n",
       "1  -1.451069 -1.517353 -0.915591 -0.560817 -0.956241      -0.658992 -0.126769   \n",
       "2   0.824672  1.800890  0.937385  1.143935  0.875685      -0.658992 -0.228453   \n",
       "3   0.499567  0.694809  0.937385  1.996311  0.489178      -0.658992  0.593616   \n",
       "4  -0.475751 -0.411272 -0.915591 -0.560817 -0.728948       0.199448 -0.060364   \n",
       "\n",
       "       view  yr_built  yr_renovated   pop_bin  box_cox_condition  \\\n",
       "0 -0.304956  0.817001     -0.188886 -0.243266          -0.599658   \n",
       "1 -0.304956 -1.702167     -0.188886  0.104560           0.980510   \n",
       "2 -0.304956  1.463814     -0.188886 -1.286744          -0.599658   \n",
       "3 -0.304956  1.055300     -0.188886 -1.286744          -0.599658   \n",
       "4 -0.304956  0.306358     -0.188886 -1.286744           0.980510   \n",
       "\n",
       "   living_fraction  \n",
       "0        -0.269146  \n",
       "1        -0.752182  \n",
       "2         1.168765  \n",
       "3        -0.882140  \n",
       "4        -0.750711  "
      ]
     },
     "execution_count": 43,
     "metadata": {},
     "output_type": "execute_result"
    }
   ],
   "source": [
    "outliers_df.head()"
   ]
  },
  {
   "cell_type": "markdown",
   "metadata": {},
   "source": [
    "# Outliers can be removed using  IQR score."
   ]
  },
  {
   "cell_type": "code",
   "execution_count": 44,
   "metadata": {},
   "outputs": [
    {
     "name": "stdout",
     "output_type": "stream",
     "text": [
      "bathrooms            0.975318\n",
      "bedrooms             1.106081\n",
      "floors               1.852976\n",
      "grade                0.852376\n",
      "price                0.879229\n",
      "sqft_basement        1.265069\n",
      "sqft_lot             0.136323\n",
      "view                 0.000000\n",
      "yr_built             1.565969\n",
      "yr_renovated         0.000000\n",
      "pop_bin              1.391304\n",
      "box_cox_condition    1.580169\n",
      "living_fraction      0.934836\n",
      "dtype: float64\n"
     ]
    }
   ],
   "source": [
    "Q1 = outliers_df.quantile(0.25)\n",
    "Q3 = outliers_df.quantile(0.75)\n",
    "IQR = Q3 - Q1\n",
    "print(IQR)"
   ]
  },
  {
   "cell_type": "markdown",
   "metadata": {},
   "source": [
    "### 'True' represents the presence of an outlier."
   ]
  },
  {
   "cell_type": "code",
   "execution_count": 50,
   "metadata": {
    "scrolled": true
   },
   "outputs": [
    {
     "name": "stdout",
     "output_type": "stream",
     "text": [
      "       bathrooms  bedrooms  floors  grade  price  sqft_basement  sqft_lot  \\\n",
      "0          False     False   False  False  False          False     False   \n",
      "1          False     False   False  False  False          False     False   \n",
      "2          False     False   False  False  False          False     False   \n",
      "3          False     False   False  False  False          False     False   \n",
      "4          False     False   False  False  False          False     False   \n",
      "...          ...       ...     ...    ...    ...            ...       ...   \n",
      "21591      False     False   False  False  False          False     False   \n",
      "21592      False     False   False  False  False          False     False   \n",
      "21593      False     False   False  False  False          False     False   \n",
      "21594      False     False   False  False  False          False     False   \n",
      "21595      False     False   False  False  False          False     False   \n",
      "\n",
      "        view  yr_built  yr_renovated  pop_bin  box_cox_condition  \\\n",
      "0      False     False         False    False              False   \n",
      "1      False     False         False    False              False   \n",
      "2      False     False         False    False              False   \n",
      "3      False     False         False    False              False   \n",
      "4      False     False         False    False              False   \n",
      "...      ...       ...           ...      ...                ...   \n",
      "21591  False     False         False    False              False   \n",
      "21592  False     False         False    False              False   \n",
      "21593  False     False         False    False              False   \n",
      "21594  False     False         False    False              False   \n",
      "21595  False     False         False    False              False   \n",
      "\n",
      "       living_fraction  \n",
      "0                False  \n",
      "1                False  \n",
      "2                False  \n",
      "3                False  \n",
      "4                False  \n",
      "...                ...  \n",
      "21591            False  \n",
      "21592            False  \n",
      "21593            False  \n",
      "21594            False  \n",
      "21595            False  \n",
      "\n",
      "[21596 rows x 13 columns]\n"
     ]
    },
    {
     "data": {
      "text/html": [
       "<div>\n",
       "<style scoped>\n",
       "    .dataframe tbody tr th:only-of-type {\n",
       "        vertical-align: middle;\n",
       "    }\n",
       "\n",
       "    .dataframe tbody tr th {\n",
       "        vertical-align: top;\n",
       "    }\n",
       "\n",
       "    .dataframe thead th {\n",
       "        text-align: right;\n",
       "    }\n",
       "</style>\n",
       "<table border=\"1\" class=\"dataframe\">\n",
       "  <thead>\n",
       "    <tr style=\"text-align: right;\">\n",
       "      <th></th>\n",
       "      <th>bathrooms</th>\n",
       "      <th>bedrooms</th>\n",
       "      <th>floors</th>\n",
       "      <th>grade</th>\n",
       "      <th>price</th>\n",
       "      <th>sqft_basement</th>\n",
       "      <th>sqft_lot</th>\n",
       "      <th>view</th>\n",
       "      <th>yr_built</th>\n",
       "      <th>yr_renovated</th>\n",
       "      <th>pop_bin</th>\n",
       "      <th>box_cox_condition</th>\n",
       "      <th>living_fraction</th>\n",
       "    </tr>\n",
       "  </thead>\n",
       "  <tbody>\n",
       "    <tr>\n",
       "      <th>0</th>\n",
       "      <td>False</td>\n",
       "      <td>False</td>\n",
       "      <td>False</td>\n",
       "      <td>False</td>\n",
       "      <td>False</td>\n",
       "      <td>False</td>\n",
       "      <td>False</td>\n",
       "      <td>False</td>\n",
       "      <td>False</td>\n",
       "      <td>False</td>\n",
       "      <td>False</td>\n",
       "      <td>False</td>\n",
       "      <td>False</td>\n",
       "    </tr>\n",
       "    <tr>\n",
       "      <th>1</th>\n",
       "      <td>False</td>\n",
       "      <td>False</td>\n",
       "      <td>False</td>\n",
       "      <td>False</td>\n",
       "      <td>False</td>\n",
       "      <td>False</td>\n",
       "      <td>False</td>\n",
       "      <td>False</td>\n",
       "      <td>False</td>\n",
       "      <td>False</td>\n",
       "      <td>False</td>\n",
       "      <td>False</td>\n",
       "      <td>False</td>\n",
       "    </tr>\n",
       "    <tr>\n",
       "      <th>2</th>\n",
       "      <td>False</td>\n",
       "      <td>False</td>\n",
       "      <td>False</td>\n",
       "      <td>False</td>\n",
       "      <td>False</td>\n",
       "      <td>False</td>\n",
       "      <td>False</td>\n",
       "      <td>False</td>\n",
       "      <td>False</td>\n",
       "      <td>False</td>\n",
       "      <td>False</td>\n",
       "      <td>False</td>\n",
       "      <td>False</td>\n",
       "    </tr>\n",
       "    <tr>\n",
       "      <th>3</th>\n",
       "      <td>False</td>\n",
       "      <td>False</td>\n",
       "      <td>False</td>\n",
       "      <td>True</td>\n",
       "      <td>False</td>\n",
       "      <td>False</td>\n",
       "      <td>True</td>\n",
       "      <td>False</td>\n",
       "      <td>False</td>\n",
       "      <td>False</td>\n",
       "      <td>False</td>\n",
       "      <td>False</td>\n",
       "      <td>False</td>\n",
       "    </tr>\n",
       "    <tr>\n",
       "      <th>4</th>\n",
       "      <td>False</td>\n",
       "      <td>False</td>\n",
       "      <td>False</td>\n",
       "      <td>False</td>\n",
       "      <td>False</td>\n",
       "      <td>False</td>\n",
       "      <td>False</td>\n",
       "      <td>False</td>\n",
       "      <td>False</td>\n",
       "      <td>False</td>\n",
       "      <td>False</td>\n",
       "      <td>False</td>\n",
       "      <td>False</td>\n",
       "    </tr>\n",
       "    <tr>\n",
       "      <th>...</th>\n",
       "      <td>...</td>\n",
       "      <td>...</td>\n",
       "      <td>...</td>\n",
       "      <td>...</td>\n",
       "      <td>...</td>\n",
       "      <td>...</td>\n",
       "      <td>...</td>\n",
       "      <td>...</td>\n",
       "      <td>...</td>\n",
       "      <td>...</td>\n",
       "      <td>...</td>\n",
       "      <td>...</td>\n",
       "      <td>...</td>\n",
       "    </tr>\n",
       "    <tr>\n",
       "      <th>21591</th>\n",
       "      <td>False</td>\n",
       "      <td>False</td>\n",
       "      <td>False</td>\n",
       "      <td>False</td>\n",
       "      <td>False</td>\n",
       "      <td>False</td>\n",
       "      <td>False</td>\n",
       "      <td>False</td>\n",
       "      <td>False</td>\n",
       "      <td>False</td>\n",
       "      <td>False</td>\n",
       "      <td>False</td>\n",
       "      <td>True</td>\n",
       "    </tr>\n",
       "    <tr>\n",
       "      <th>21592</th>\n",
       "      <td>False</td>\n",
       "      <td>False</td>\n",
       "      <td>False</td>\n",
       "      <td>False</td>\n",
       "      <td>False</td>\n",
       "      <td>False</td>\n",
       "      <td>False</td>\n",
       "      <td>False</td>\n",
       "      <td>False</td>\n",
       "      <td>False</td>\n",
       "      <td>False</td>\n",
       "      <td>False</td>\n",
       "      <td>False</td>\n",
       "    </tr>\n",
       "    <tr>\n",
       "      <th>21593</th>\n",
       "      <td>False</td>\n",
       "      <td>False</td>\n",
       "      <td>False</td>\n",
       "      <td>False</td>\n",
       "      <td>False</td>\n",
       "      <td>False</td>\n",
       "      <td>False</td>\n",
       "      <td>False</td>\n",
       "      <td>False</td>\n",
       "      <td>False</td>\n",
       "      <td>False</td>\n",
       "      <td>False</td>\n",
       "      <td>False</td>\n",
       "    </tr>\n",
       "    <tr>\n",
       "      <th>21594</th>\n",
       "      <td>False</td>\n",
       "      <td>False</td>\n",
       "      <td>False</td>\n",
       "      <td>False</td>\n",
       "      <td>False</td>\n",
       "      <td>False</td>\n",
       "      <td>False</td>\n",
       "      <td>False</td>\n",
       "      <td>False</td>\n",
       "      <td>False</td>\n",
       "      <td>False</td>\n",
       "      <td>False</td>\n",
       "      <td>False</td>\n",
       "    </tr>\n",
       "    <tr>\n",
       "      <th>21595</th>\n",
       "      <td>False</td>\n",
       "      <td>False</td>\n",
       "      <td>False</td>\n",
       "      <td>False</td>\n",
       "      <td>False</td>\n",
       "      <td>False</td>\n",
       "      <td>False</td>\n",
       "      <td>False</td>\n",
       "      <td>False</td>\n",
       "      <td>False</td>\n",
       "      <td>False</td>\n",
       "      <td>False</td>\n",
       "      <td>True</td>\n",
       "    </tr>\n",
       "  </tbody>\n",
       "</table>\n",
       "<p>21596 rows × 13 columns</p>\n",
       "</div>"
      ],
      "text/plain": [
       "       bathrooms  bedrooms  floors  grade  price  sqft_basement  sqft_lot  \\\n",
       "0          False     False   False  False  False          False     False   \n",
       "1          False     False   False  False  False          False     False   \n",
       "2          False     False   False  False  False          False     False   \n",
       "3          False     False   False   True  False          False      True   \n",
       "4          False     False   False  False  False          False     False   \n",
       "...          ...       ...     ...    ...    ...            ...       ...   \n",
       "21591      False     False   False  False  False          False     False   \n",
       "21592      False     False   False  False  False          False     False   \n",
       "21593      False     False   False  False  False          False     False   \n",
       "21594      False     False   False  False  False          False     False   \n",
       "21595      False     False   False  False  False          False     False   \n",
       "\n",
       "        view  yr_built  yr_renovated  pop_bin  box_cox_condition  \\\n",
       "0      False     False         False    False              False   \n",
       "1      False     False         False    False              False   \n",
       "2      False     False         False    False              False   \n",
       "3      False     False         False    False              False   \n",
       "4      False     False         False    False              False   \n",
       "...      ...       ...           ...      ...                ...   \n",
       "21591  False     False         False    False              False   \n",
       "21592  False     False         False    False              False   \n",
       "21593  False     False         False    False              False   \n",
       "21594  False     False         False    False              False   \n",
       "21595  False     False         False    False              False   \n",
       "\n",
       "       living_fraction  \n",
       "0                False  \n",
       "1                False  \n",
       "2                False  \n",
       "3                False  \n",
       "4                False  \n",
       "...                ...  \n",
       "21591             True  \n",
       "21592            False  \n",
       "21593            False  \n",
       "21594            False  \n",
       "21595             True  \n",
       "\n",
       "[21596 rows x 13 columns]"
      ]
     },
     "execution_count": 50,
     "metadata": {},
     "output_type": "execute_result"
    }
   ],
   "source": [
    "print(outliers_df < (Q1 - 1.5 * IQR)) or (outliers_df > (Q3 + 1.5 * IQR))"
   ]
  },
  {
   "cell_type": "markdown",
   "metadata": {},
   "source": [
    "### Outliers can be removed."
   ]
  },
  {
   "cell_type": "code",
   "execution_count": 51,
   "metadata": {},
   "outputs": [
    {
     "data": {
      "text/plain": [
       "(13928, 13)"
      ]
     },
     "execution_count": 51,
     "metadata": {},
     "output_type": "execute_result"
    }
   ],
   "source": [
    "stan_df_out = outliers_df[~((outliers_df < (Q1 - 1.5 * IQR)) |(outliers_df > (Q3 + 1.5 * IQR))).any(axis=1)]\n",
    "stan_df_out.shape\n"
   ]
  },
  {
   "cell_type": "markdown",
   "metadata": {},
   "source": [
    "# Train-Test data split can be performed."
   ]
  },
  {
   "cell_type": "code",
   "execution_count": 52,
   "metadata": {},
   "outputs": [],
   "source": [
    "from sklearn.model_selection import train_test_split\n",
    "train, test = train_test_split(stan_df_out, test_size=0.3)"
   ]
  },
  {
   "cell_type": "code",
   "execution_count": 53,
   "metadata": {},
   "outputs": [
    {
     "data": {
      "text/plain": [
       "(4179, 13)"
      ]
     },
     "execution_count": 53,
     "metadata": {},
     "output_type": "execute_result"
    }
   ],
   "source": [
    "test.shape"
   ]
  },
  {
   "cell_type": "code",
   "execution_count": 54,
   "metadata": {},
   "outputs": [
    {
     "data": {
      "text/plain": [
       "(9749, 13)"
      ]
     },
     "execution_count": 54,
     "metadata": {},
     "output_type": "execute_result"
    }
   ],
   "source": [
    "train.shape"
   ]
  },
  {
   "cell_type": "markdown",
   "metadata": {},
   "source": [
    "# An initial model can be fit."
   ]
  },
  {
   "cell_type": "code",
   "execution_count": 55,
   "metadata": {
    "scrolled": true
   },
   "outputs": [
    {
     "data": {
      "text/html": [
       "<div>\n",
       "<style scoped>\n",
       "    .dataframe tbody tr th:only-of-type {\n",
       "        vertical-align: middle;\n",
       "    }\n",
       "\n",
       "    .dataframe tbody tr th {\n",
       "        vertical-align: top;\n",
       "    }\n",
       "\n",
       "    .dataframe thead th {\n",
       "        text-align: right;\n",
       "    }\n",
       "</style>\n",
       "<table border=\"1\" class=\"dataframe\">\n",
       "  <thead>\n",
       "    <tr style=\"text-align: right;\">\n",
       "      <th></th>\n",
       "      <th>bathrooms</th>\n",
       "      <th>bedrooms</th>\n",
       "      <th>floors</th>\n",
       "      <th>grade</th>\n",
       "      <th>price</th>\n",
       "      <th>sqft_basement</th>\n",
       "      <th>sqft_lot</th>\n",
       "      <th>view</th>\n",
       "      <th>yr_built</th>\n",
       "      <th>yr_renovated</th>\n",
       "      <th>pop_bin</th>\n",
       "      <th>box_cox_condition</th>\n",
       "      <th>living_fraction</th>\n",
       "    </tr>\n",
       "  </thead>\n",
       "  <tbody>\n",
       "    <tr>\n",
       "      <th>18157</th>\n",
       "      <td>-1.451069</td>\n",
       "      <td>-1.517353</td>\n",
       "      <td>-0.915591</td>\n",
       "      <td>-1.413193</td>\n",
       "      <td>-0.979379</td>\n",
       "      <td>-0.658992</td>\n",
       "      <td>-0.243883</td>\n",
       "      <td>-0.304956</td>\n",
       "      <td>0.170187</td>\n",
       "      <td>-0.188886</td>\n",
       "      <td>0.104560</td>\n",
       "      <td>-0.599658</td>\n",
       "      <td>-0.572741</td>\n",
       "    </tr>\n",
       "    <tr>\n",
       "      <th>18901</th>\n",
       "      <td>-1.451069</td>\n",
       "      <td>-1.517353</td>\n",
       "      <td>-0.915591</td>\n",
       "      <td>-1.413193</td>\n",
       "      <td>-0.368274</td>\n",
       "      <td>-0.658992</td>\n",
       "      <td>-0.219349</td>\n",
       "      <td>-0.304956</td>\n",
       "      <td>-0.987268</td>\n",
       "      <td>-0.188886</td>\n",
       "      <td>1.148039</td>\n",
       "      <td>-0.599658</td>\n",
       "      <td>-0.710644</td>\n",
       "    </tr>\n",
       "    <tr>\n",
       "      <th>18694</th>\n",
       "      <td>-0.475751</td>\n",
       "      <td>1.800890</td>\n",
       "      <td>-0.915591</td>\n",
       "      <td>-0.560817</td>\n",
       "      <td>-0.273138</td>\n",
       "      <td>1.374155</td>\n",
       "      <td>-0.183515</td>\n",
       "      <td>-0.304956</td>\n",
       "      <td>0.272316</td>\n",
       "      <td>-0.188886</td>\n",
       "      <td>0.800213</td>\n",
       "      <td>-0.599658</td>\n",
       "      <td>-0.118297</td>\n",
       "    </tr>\n",
       "    <tr>\n",
       "      <th>20293</th>\n",
       "      <td>1.799990</td>\n",
       "      <td>0.694809</td>\n",
       "      <td>0.937385</td>\n",
       "      <td>1.143935</td>\n",
       "      <td>0.666112</td>\n",
       "      <td>-0.658992</td>\n",
       "      <td>-0.247505</td>\n",
       "      <td>-0.304956</td>\n",
       "      <td>1.327643</td>\n",
       "      <td>-0.188886</td>\n",
       "      <td>-1.286744</td>\n",
       "      <td>-0.599658</td>\n",
       "      <td>1.336202</td>\n",
       "    </tr>\n",
       "    <tr>\n",
       "      <th>8099</th>\n",
       "      <td>-0.800857</td>\n",
       "      <td>0.694809</td>\n",
       "      <td>0.937385</td>\n",
       "      <td>-0.560817</td>\n",
       "      <td>-0.221282</td>\n",
       "      <td>-0.658992</td>\n",
       "      <td>-0.133216</td>\n",
       "      <td>-0.304956</td>\n",
       "      <td>-0.272369</td>\n",
       "      <td>-0.188886</td>\n",
       "      <td>0.104560</td>\n",
       "      <td>0.980510</td>\n",
       "      <td>-0.420801</td>\n",
       "    </tr>\n",
       "  </tbody>\n",
       "</table>\n",
       "</div>"
      ],
      "text/plain": [
       "       bathrooms  bedrooms    floors     grade     price  sqft_basement  \\\n",
       "18157  -1.451069 -1.517353 -0.915591 -1.413193 -0.979379      -0.658992   \n",
       "18901  -1.451069 -1.517353 -0.915591 -1.413193 -0.368274      -0.658992   \n",
       "18694  -0.475751  1.800890 -0.915591 -0.560817 -0.273138       1.374155   \n",
       "20293   1.799990  0.694809  0.937385  1.143935  0.666112      -0.658992   \n",
       "8099   -0.800857  0.694809  0.937385 -0.560817 -0.221282      -0.658992   \n",
       "\n",
       "       sqft_lot      view  yr_built  yr_renovated   pop_bin  \\\n",
       "18157 -0.243883 -0.304956  0.170187     -0.188886  0.104560   \n",
       "18901 -0.219349 -0.304956 -0.987268     -0.188886  1.148039   \n",
       "18694 -0.183515 -0.304956  0.272316     -0.188886  0.800213   \n",
       "20293 -0.247505 -0.304956  1.327643     -0.188886 -1.286744   \n",
       "8099  -0.133216 -0.304956 -0.272369     -0.188886  0.104560   \n",
       "\n",
       "       box_cox_condition  living_fraction  \n",
       "18157          -0.599658        -0.572741  \n",
       "18901          -0.599658        -0.710644  \n",
       "18694          -0.599658        -0.118297  \n",
       "20293          -0.599658         1.336202  \n",
       "8099            0.980510        -0.420801  "
      ]
     },
     "execution_count": 55,
     "metadata": {},
     "output_type": "execute_result"
    }
   ],
   "source": [
    "train.head()"
   ]
  },
  {
   "cell_type": "code",
   "execution_count": 56,
   "metadata": {},
   "outputs": [
    {
     "data": {
      "text/plain": [
       "Index(['bathrooms', 'bedrooms', 'floors', 'grade', 'price', 'sqft_basement',\n",
       "       'sqft_lot', 'view', 'yr_built', 'yr_renovated', 'pop_bin',\n",
       "       'box_cox_condition', 'living_fraction'],\n",
       "      dtype='object')"
      ]
     },
     "execution_count": 56,
     "metadata": {},
     "output_type": "execute_result"
    }
   ],
   "source": [
    "train.columns"
   ]
  },
  {
   "cell_type": "code",
   "execution_count": 60,
   "metadata": {},
   "outputs": [],
   "source": [
    "outcome = 'price'\n",
    "x_cols = ['bathrooms', 'bedrooms', 'floors', 'grade', 'sqft_basement',\n",
    "       'sqft_lot', 'view', 'yr_built', 'yr_renovated', 'pop_bin',\n",
    "       'box_cox_condition', 'living_fraction']"
   ]
  },
  {
   "cell_type": "code",
   "execution_count": 61,
   "metadata": {
    "scrolled": false
   },
   "outputs": [
    {
     "data": {
      "text/html": [
       "<table class=\"simpletable\">\n",
       "<caption>OLS Regression Results</caption>\n",
       "<tr>\n",
       "  <th>Dep. Variable:</th>          <td>price</td>      <th>  R-squared:         </th> <td>   0.491</td>\n",
       "</tr>\n",
       "<tr>\n",
       "  <th>Model:</th>                   <td>OLS</td>       <th>  Adj. R-squared:    </th> <td>   0.490</td>\n",
       "</tr>\n",
       "<tr>\n",
       "  <th>Method:</th>             <td>Least Squares</td>  <th>  F-statistic:       </th> <td>   939.1</td>\n",
       "</tr>\n",
       "<tr>\n",
       "  <th>Date:</th>             <td>Thu, 15 Oct 2020</td> <th>  Prob (F-statistic):</th>  <td>  0.00</td> \n",
       "</tr>\n",
       "<tr>\n",
       "  <th>Time:</th>                 <td>20:37:12</td>     <th>  Log-Likelihood:    </th> <td> -3711.4</td>\n",
       "</tr>\n",
       "<tr>\n",
       "  <th>No. Observations:</th>      <td>  9749</td>      <th>  AIC:               </th> <td>   7445.</td>\n",
       "</tr>\n",
       "<tr>\n",
       "  <th>Df Residuals:</th>          <td>  9738</td>      <th>  BIC:               </th> <td>   7524.</td>\n",
       "</tr>\n",
       "<tr>\n",
       "  <th>Df Model:</th>              <td>    10</td>      <th>                     </th>     <td> </td>   \n",
       "</tr>\n",
       "<tr>\n",
       "  <th>Covariance Type:</th>      <td>nonrobust</td>    <th>                     </th>     <td> </td>   \n",
       "</tr>\n",
       "</table>\n",
       "<table class=\"simpletable\">\n",
       "<tr>\n",
       "          <td></td>             <th>coef</th>     <th>std err</th>      <th>t</th>      <th>P>|t|</th>  <th>[0.025</th>    <th>0.975]</th>  \n",
       "</tr>\n",
       "<tr>\n",
       "  <th>Intercept</th>         <td>    0.0755</td> <td>    0.014</td> <td>    5.331</td> <td> 0.000</td> <td>    0.048</td> <td>    0.103</td>\n",
       "</tr>\n",
       "<tr>\n",
       "  <th>bathrooms</th>         <td>    0.0865</td> <td>    0.007</td> <td>   11.576</td> <td> 0.000</td> <td>    0.072</td> <td>    0.101</td>\n",
       "</tr>\n",
       "<tr>\n",
       "  <th>bedrooms</th>          <td>    0.0062</td> <td>    0.005</td> <td>    1.205</td> <td> 0.228</td> <td>   -0.004</td> <td>    0.016</td>\n",
       "</tr>\n",
       "<tr>\n",
       "  <th>floors</th>            <td>    0.0090</td> <td>    0.007</td> <td>    1.338</td> <td> 0.181</td> <td>   -0.004</td> <td>    0.022</td>\n",
       "</tr>\n",
       "<tr>\n",
       "  <th>grade</th>             <td>    0.3784</td> <td>    0.007</td> <td>   53.138</td> <td> 0.000</td> <td>    0.364</td> <td>    0.392</td>\n",
       "</tr>\n",
       "<tr>\n",
       "  <th>sqft_basement</th>     <td>    0.0056</td> <td>    0.006</td> <td>    0.924</td> <td> 0.356</td> <td>   -0.006</td> <td>    0.017</td>\n",
       "</tr>\n",
       "<tr>\n",
       "  <th>sqft_lot</th>          <td>    1.1773</td> <td>    0.084</td> <td>   14.090</td> <td> 0.000</td> <td>    1.014</td> <td>    1.341</td>\n",
       "</tr>\n",
       "<tr>\n",
       "  <th>view</th>              <td>   -0.0230</td> <td>    0.004</td> <td>   -5.331</td> <td> 0.000</td> <td>   -0.031</td> <td>   -0.015</td>\n",
       "</tr>\n",
       "<tr>\n",
       "  <th>yr_built</th>          <td>   -0.1719</td> <td>    0.007</td> <td>  -26.402</td> <td> 0.000</td> <td>   -0.185</td> <td>   -0.159</td>\n",
       "</tr>\n",
       "<tr>\n",
       "  <th>yr_renovated</th>      <td>   -0.0143</td> <td>    0.003</td> <td>   -5.331</td> <td> 0.000</td> <td>   -0.020</td> <td>   -0.009</td>\n",
       "</tr>\n",
       "<tr>\n",
       "  <th>pop_bin</th>           <td>    0.1002</td> <td>    0.006</td> <td>   17.082</td> <td> 0.000</td> <td>    0.089</td> <td>    0.112</td>\n",
       "</tr>\n",
       "<tr>\n",
       "  <th>box_cox_condition</th> <td>    0.0380</td> <td>    0.004</td> <td>    8.857</td> <td> 0.000</td> <td>    0.030</td> <td>    0.046</td>\n",
       "</tr>\n",
       "<tr>\n",
       "  <th>living_fraction</th>   <td>    0.2743</td> <td>    0.014</td> <td>   20.267</td> <td> 0.000</td> <td>    0.248</td> <td>    0.301</td>\n",
       "</tr>\n",
       "</table>\n",
       "<table class=\"simpletable\">\n",
       "<tr>\n",
       "  <th>Omnibus:</th>       <td>702.616</td> <th>  Durbin-Watson:     </th> <td>   2.016</td> \n",
       "</tr>\n",
       "<tr>\n",
       "  <th>Prob(Omnibus):</th> <td> 0.000</td>  <th>  Jarque-Bera (JB):  </th> <td>1113.911</td> \n",
       "</tr>\n",
       "<tr>\n",
       "  <th>Skew:</th>          <td> 0.569</td>  <th>  Prob(JB):          </th> <td>1.31e-242</td>\n",
       "</tr>\n",
       "<tr>\n",
       "  <th>Kurtosis:</th>      <td> 4.203</td>  <th>  Cond. No.          </th> <td>7.17e+16</td> \n",
       "</tr>\n",
       "</table><br/><br/>Warnings:<br/>[1] Standard Errors assume that the covariance matrix of the errors is correctly specified.<br/>[2] The smallest eigenvalue is 5.06e-30. This might indicate that there are<br/>strong multicollinearity problems or that the design matrix is singular."
      ],
      "text/plain": [
       "<class 'statsmodels.iolib.summary.Summary'>\n",
       "\"\"\"\n",
       "                            OLS Regression Results                            \n",
       "==============================================================================\n",
       "Dep. Variable:                  price   R-squared:                       0.491\n",
       "Model:                            OLS   Adj. R-squared:                  0.490\n",
       "Method:                 Least Squares   F-statistic:                     939.1\n",
       "Date:                Thu, 15 Oct 2020   Prob (F-statistic):               0.00\n",
       "Time:                        20:37:12   Log-Likelihood:                -3711.4\n",
       "No. Observations:                9749   AIC:                             7445.\n",
       "Df Residuals:                    9738   BIC:                             7524.\n",
       "Df Model:                          10                                         \n",
       "Covariance Type:            nonrobust                                         \n",
       "=====================================================================================\n",
       "                        coef    std err          t      P>|t|      [0.025      0.975]\n",
       "-------------------------------------------------------------------------------------\n",
       "Intercept             0.0755      0.014      5.331      0.000       0.048       0.103\n",
       "bathrooms             0.0865      0.007     11.576      0.000       0.072       0.101\n",
       "bedrooms              0.0062      0.005      1.205      0.228      -0.004       0.016\n",
       "floors                0.0090      0.007      1.338      0.181      -0.004       0.022\n",
       "grade                 0.3784      0.007     53.138      0.000       0.364       0.392\n",
       "sqft_basement         0.0056      0.006      0.924      0.356      -0.006       0.017\n",
       "sqft_lot              1.1773      0.084     14.090      0.000       1.014       1.341\n",
       "view                 -0.0230      0.004     -5.331      0.000      -0.031      -0.015\n",
       "yr_built             -0.1719      0.007    -26.402      0.000      -0.185      -0.159\n",
       "yr_renovated         -0.0143      0.003     -5.331      0.000      -0.020      -0.009\n",
       "pop_bin               0.1002      0.006     17.082      0.000       0.089       0.112\n",
       "box_cox_condition     0.0380      0.004      8.857      0.000       0.030       0.046\n",
       "living_fraction       0.2743      0.014     20.267      0.000       0.248       0.301\n",
       "==============================================================================\n",
       "Omnibus:                      702.616   Durbin-Watson:                   2.016\n",
       "Prob(Omnibus):                  0.000   Jarque-Bera (JB):             1113.911\n",
       "Skew:                           0.569   Prob(JB):                    1.31e-242\n",
       "Kurtosis:                       4.203   Cond. No.                     7.17e+16\n",
       "==============================================================================\n",
       "\n",
       "Warnings:\n",
       "[1] Standard Errors assume that the covariance matrix of the errors is correctly specified.\n",
       "[2] The smallest eigenvalue is 5.06e-30. This might indicate that there are\n",
       "strong multicollinearity problems or that the design matrix is singular.\n",
       "\"\"\""
      ]
     },
     "execution_count": 61,
     "metadata": {},
     "output_type": "execute_result"
    }
   ],
   "source": [
    "predictors = '+'.join(x_cols)\n",
    "formula = outcome + '~' + predictors\n",
    "model = ols(formula=formula, data=train).fit()\n",
    "model.summary()"
   ]
  },
  {
   "cell_type": "markdown",
   "metadata": {},
   "source": [
    "# Checking for normality can be completed."
   ]
  },
  {
   "cell_type": "markdown",
   "metadata": {},
   "source": [
    "Verification of the normal distribution of model residuals.\n",
    "\n"
   ]
  },
  {
   "cell_type": "markdown",
   "metadata": {},
   "source": [
    "skewness > 0 : more weight in the left tail of the distribution."
   ]
  },
  {
   "cell_type": "markdown",
   "metadata": {},
   "source": [
    "skewness < 0 : more weight in the right tail of the distribution. "
   ]
  },
  {
   "cell_type": "code",
   "execution_count": 75,
   "metadata": {},
   "outputs": [],
   "source": [
    "import statsmodels.api as sm\n",
    "import scipy.stats as stats"
   ]
  },
  {
   "cell_type": "code",
   "execution_count": 76,
   "metadata": {},
   "outputs": [],
   "source": [
    "outcome = 'price'\n",
    "x_cols = ['bathrooms', 'bedrooms', 'floors', 'grade', 'sqft_basement',\n",
    "       'sqft_lot', 'view', 'yr_built', 'yr_renovated', 'pop_bin',\n",
    "       'box_cox_condition', 'living_fraction']"
   ]
  },
  {
   "cell_type": "code",
   "execution_count": 77,
   "metadata": {},
   "outputs": [
    {
     "data": {
      "image/png": "[encoded data removed]",
      "text/plain": [
       "<Figure size 432x288 with 1 Axes>"
      ]
     },
     "metadata": {
      "needs_background": "light"
     },
     "output_type": "display_data"
    }
   ],
   "source": [
    "predictors = '+'.join(x_cols)\n",
    "formula = outcome + '~' + predictors\n",
    "model = ols(formula=formula, data=train).fit()\n",
    "fig = sm.graphics.qqplot(model.resid, dist=stats.norm, line='45', fit=True)"
   ]
  },
  {
   "cell_type": "code",
   "execution_count": null,
   "metadata": {},
   "outputs": [],
   "source": []
  },
  {
   "cell_type": "code",
   "execution_count": 62,
   "metadata": {},
   "outputs": [
    {
     "data": {
      "text/plain": [
       "Index(['bathrooms', 'bedrooms', 'floors', 'grade', 'price', 'sqft_basement',\n",
       "       'sqft_lot', 'view', 'yr_built', 'yr_renovated', 'pop_bin',\n",
       "       'box_cox_condition', 'living_fraction'],\n",
       "      dtype='object')"
      ]
     },
     "execution_count": 62,
     "metadata": {},
     "output_type": "execute_result"
    }
   ],
   "source": [
    "train.columns"
   ]
  },
  {
   "cell_type": "code",
   "execution_count": 70,
   "metadata": {
    "scrolled": false
   },
   "outputs": [
    {
     "data": {
      "text/plain": [
       "0"
      ]
     },
     "execution_count": 70,
     "metadata": {},
     "output_type": "execute_result"
    }
   ],
   "source": [
    "train.view.skew()"
   ]
  },
  {
   "cell_type": "code",
   "execution_count": 71,
   "metadata": {
    "scrolled": false
   },
   "outputs": [
    {
     "data": {
      "text/plain": [
       "0"
      ]
     },
     "execution_count": 71,
     "metadata": {},
     "output_type": "execute_result"
    }
   ],
   "source": [
    "train.yr_renovated.skew()"
   ]
  },
  {
   "cell_type": "code",
   "execution_count": 63,
   "metadata": {},
   "outputs": [
    {
     "data": {
      "text/plain": [
       "-0.08679469604583015"
      ]
     },
     "execution_count": 63,
     "metadata": {},
     "output_type": "execute_result"
    }
   ],
   "source": [
    "train.bathrooms.skew()"
   ]
  },
  {
   "cell_type": "code",
   "execution_count": 65,
   "metadata": {},
   "outputs": [
    {
     "data": {
      "text/plain": [
       "0.1937574963065836"
      ]
     },
     "execution_count": 65,
     "metadata": {},
     "output_type": "execute_result"
    }
   ],
   "source": [
    "train.bedrooms.skew()"
   ]
  },
  {
   "cell_type": "code",
   "execution_count": 67,
   "metadata": {},
   "outputs": [
    {
     "data": {
      "text/plain": [
       "0.3940664617404127"
      ]
     },
     "execution_count": 67,
     "metadata": {},
     "output_type": "execute_result"
    }
   ],
   "source": [
    "train.grade.skew()"
   ]
  },
  {
   "cell_type": "code",
   "execution_count": 73,
   "metadata": {},
   "outputs": [
    {
     "data": {
      "text/plain": [
       "0.40588824705553367"
      ]
     },
     "execution_count": 73,
     "metadata": {},
     "output_type": "execute_result"
    }
   ],
   "source": [
    "train.pop_bin.skew()"
   ]
  },
  {
   "cell_type": "code",
   "execution_count": 72,
   "metadata": {},
   "outputs": [
    {
     "data": {
      "text/plain": [
       "-0.3984166985703998"
      ]
     },
     "execution_count": 72,
     "metadata": {},
     "output_type": "execute_result"
    }
   ],
   "source": [
    "train.yr_built.skew()"
   ]
  },
  {
   "cell_type": "code",
   "execution_count": 66,
   "metadata": {},
   "outputs": [
    {
     "data": {
      "text/plain": [
       "0.5634789785641423"
      ]
     },
     "execution_count": 66,
     "metadata": {},
     "output_type": "execute_result"
    }
   ],
   "source": [
    "train.floors.skew()"
   ]
  },
  {
   "cell_type": "code",
   "execution_count": 69,
   "metadata": {},
   "outputs": [
    {
     "data": {
      "text/plain": [
       "0.8473391947709148"
      ]
     },
     "execution_count": 69,
     "metadata": {},
     "output_type": "execute_result"
    }
   ],
   "source": [
    "train.sqft_lot.skew()"
   ]
  },
  {
   "cell_type": "code",
   "execution_count": 64,
   "metadata": {
    "scrolled": true
   },
   "outputs": [
    {
     "data": {
      "text/plain": [
       "0.8664073647748909"
      ]
     },
     "execution_count": 64,
     "metadata": {},
     "output_type": "execute_result"
    }
   ],
   "source": [
    "train.box_cox_condition.skew()"
   ]
  },
  {
   "cell_type": "code",
   "execution_count": 74,
   "metadata": {
    "scrolled": true
   },
   "outputs": [
    {
     "data": {
      "text/plain": [
       "1.0169692703087796"
      ]
     },
     "execution_count": 74,
     "metadata": {},
     "output_type": "execute_result"
    }
   ],
   "source": [
    "train.living_fraction.skew()"
   ]
  },
  {
   "cell_type": "code",
   "execution_count": 68,
   "metadata": {},
   "outputs": [
    {
     "data": {
      "text/plain": [
       "1.300833998148221"
      ]
     },
     "execution_count": 68,
     "metadata": {},
     "output_type": "execute_result"
    }
   ],
   "source": [
    "train.sqft_basement.skew()"
   ]
  },
  {
   "cell_type": "markdown",
   "metadata": {},
   "source": [
    "### Altering the square foot basement feature into its square root reduces the skew."
   ]
  },
  {
   "cell_type": "code",
   "execution_count": 80,
   "metadata": {
    "scrolled": false
   },
   "outputs": [
    {
     "data": {
      "text/plain": [
       "-0.32775329028552197"
      ]
     },
     "execution_count": 80,
     "metadata": {},
     "output_type": "execute_result"
    }
   ],
   "source": [
    "train['sqrt_sqft_basement'] = np.sqrt(train['sqft_basement'])\n",
    "train.sqrt_sqft_basement.skew()"
   ]
  },
  {
   "cell_type": "code",
   "execution_count": 83,
   "metadata": {},
   "outputs": [],
   "source": [
    "outcome = 'price'\n",
    "x_cols = ['bathrooms', 'bedrooms', 'floors', 'grade', 'sqrt_sqft_basement',\n",
    "       'sqft_lot', 'view', 'yr_built', 'yr_renovated', 'pop_bin',\n",
    "       'box_cox_condition', 'living_fraction']"
   ]
  },
  {
   "cell_type": "code",
   "execution_count": 84,
   "metadata": {
    "scrolled": true
   },
   "outputs": [
    {
     "data": {
      "image/png": "[encoded data removed]",
      "text/plain": [
       "<Figure size 432x288 with 1 Axes>"
      ]
     },
     "metadata": {
      "needs_background": "light"
     },
     "output_type": "display_data"
    }
   ],
   "source": [
    "predictors = '+'.join(x_cols)\n",
    "formula = outcome + '~' + predictors\n",
    "model = ols(formula=formula, data=train).fit()\n",
    "fig = sm.graphics.qqplot(model.resid, dist=stats.norm, line='45', fit=True)"
   ]
  },
  {
   "cell_type": "code",
   "execution_count": 87,
   "metadata": {},
   "outputs": [],
   "source": [
    "### Altering the living_fraction feature into its square root reduces the skew."
   ]
  },
  {
   "cell_type": "code",
   "execution_count": 88,
   "metadata": {},
   "outputs": [
    {
     "data": {
      "text/plain": [
       "-0.005086287188249111"
      ]
     },
     "execution_count": 88,
     "metadata": {},
     "output_type": "execute_result"
    }
   ],
   "source": [
    "train['sqrt_living_fraction'] = np.sqrt(train['living_fraction'])\n",
    "train.sqrt_living_fraction.skew()"
   ]
  },
  {
   "cell_type": "code",
   "execution_count": 96,
   "metadata": {},
   "outputs": [],
   "source": [
    "outcome = 'price'\n",
    "x_cols = ['bathrooms', 'bedrooms', 'floors', 'grade', 'sqrt_sqft_basement',\n",
    "       'sqft_lot', 'view', 'yr_built', 'yr_renovated', 'pop_bin',\n",
    "       'box_cox_condition', 'sqrt_living_fraction']"
   ]
  },
  {
   "cell_type": "code",
   "execution_count": 90,
   "metadata": {},
   "outputs": [
    {
     "data": {
      "image/png": "[encoded data removed]",
      "text/plain": [
       "<Figure size 432x288 with 1 Axes>"
      ]
     },
     "metadata": {
      "needs_background": "light"
     },
     "output_type": "display_data"
    }
   ],
   "source": [
    "predictors = '+'.join(x_cols)\n",
    "formula = outcome + '~' + predictors\n",
    "model = ols(formula=formula, data=train).fit()\n",
    "fig = sm.graphics.qqplot(model.resid, dist=stats.norm, line='45', fit=True)"
   ]
  },
  {
   "cell_type": "code",
   "execution_count": 112,
   "metadata": {},
   "outputs": [],
   "source": [
    "df_for_hetero = train[['bathrooms', 'bedrooms', 'floors', 'grade', 'sqrt_sqft_basement',\n",
    "       'sqft_lot', 'view', 'yr_built', 'yr_renovated', 'pop_bin',\n",
    "       'box_cox_condition', 'sqrt_living_fraction']]"
   ]
  },
  {
   "cell_type": "code",
   "execution_count": 116,
   "metadata": {},
   "outputs": [
    {
     "data": {
      "text/plain": [
       "bathrooms                    0\n",
       "bedrooms                     0\n",
       "floors                       0\n",
       "grade                        0\n",
       "price                        0\n",
       "sqft_basement                0\n",
       "sqft_lot                     0\n",
       "view                         0\n",
       "yr_built                     0\n",
       "yr_renovated                 0\n",
       "pop_bin                      0\n",
       "box_cox_condition            0\n",
       "living_fraction              0\n",
       "log_sqft_basement         6704\n",
       "sqrt_sqft_basement        6704\n",
       "sqrt_living_fraction      6626\n",
       "sqrt_sqft_lot             9453\n",
       "sqrt_floors               5493\n",
       "sqrt_box_cox_condition    6097\n",
       "dtype: int64"
      ]
     },
     "execution_count": 116,
     "metadata": {},
     "output_type": "execute_result"
    }
   ],
   "source": [
    "train.isna().sum()"
   ]
  },
  {
   "cell_type": "code",
   "execution_count": null,
   "metadata": {},
   "outputs": [],
   "source": []
  },
  {
   "cell_type": "code",
   "execution_count": null,
   "metadata": {},
   "outputs": [],
   "source": []
  },
  {
   "cell_type": "code",
   "execution_count": 113,
   "metadata": {},
   "outputs": [
    {
     "data": {
      "text/html": [
       "<div>\n",
       "<style scoped>\n",
       "    .dataframe tbody tr th:only-of-type {\n",
       "        vertical-align: middle;\n",
       "    }\n",
       "\n",
       "    .dataframe tbody tr th {\n",
       "        vertical-align: top;\n",
       "    }\n",
       "\n",
       "    .dataframe thead th {\n",
       "        text-align: right;\n",
       "    }\n",
       "</style>\n",
       "<table border=\"1\" class=\"dataframe\">\n",
       "  <thead>\n",
       "    <tr style=\"text-align: right;\">\n",
       "      <th></th>\n",
       "      <th>bathrooms</th>\n",
       "      <th>bedrooms</th>\n",
       "      <th>floors</th>\n",
       "      <th>grade</th>\n",
       "      <th>sqrt_sqft_basement</th>\n",
       "      <th>sqft_lot</th>\n",
       "      <th>view</th>\n",
       "      <th>yr_built</th>\n",
       "      <th>yr_renovated</th>\n",
       "      <th>pop_bin</th>\n",
       "      <th>box_cox_condition</th>\n",
       "      <th>sqrt_living_fraction</th>\n",
       "    </tr>\n",
       "  </thead>\n",
       "  <tbody>\n",
       "    <tr>\n",
       "      <th>18157</th>\n",
       "      <td>-1.451069</td>\n",
       "      <td>-1.517353</td>\n",
       "      <td>-0.915591</td>\n",
       "      <td>-1.413193</td>\n",
       "      <td>NaN</td>\n",
       "      <td>-0.243883</td>\n",
       "      <td>-0.304956</td>\n",
       "      <td>0.170187</td>\n",
       "      <td>-0.188886</td>\n",
       "      <td>0.104560</td>\n",
       "      <td>-0.599658</td>\n",
       "      <td>NaN</td>\n",
       "    </tr>\n",
       "    <tr>\n",
       "      <th>18901</th>\n",
       "      <td>-1.451069</td>\n",
       "      <td>-1.517353</td>\n",
       "      <td>-0.915591</td>\n",
       "      <td>-1.413193</td>\n",
       "      <td>NaN</td>\n",
       "      <td>-0.219349</td>\n",
       "      <td>-0.304956</td>\n",
       "      <td>-0.987268</td>\n",
       "      <td>-0.188886</td>\n",
       "      <td>1.148039</td>\n",
       "      <td>-0.599658</td>\n",
       "      <td>NaN</td>\n",
       "    </tr>\n",
       "    <tr>\n",
       "      <th>18694</th>\n",
       "      <td>-0.475751</td>\n",
       "      <td>1.800890</td>\n",
       "      <td>-0.915591</td>\n",
       "      <td>-0.560817</td>\n",
       "      <td>1.172244</td>\n",
       "      <td>-0.183515</td>\n",
       "      <td>-0.304956</td>\n",
       "      <td>0.272316</td>\n",
       "      <td>-0.188886</td>\n",
       "      <td>0.800213</td>\n",
       "      <td>-0.599658</td>\n",
       "      <td>NaN</td>\n",
       "    </tr>\n",
       "    <tr>\n",
       "      <th>20293</th>\n",
       "      <td>1.799990</td>\n",
       "      <td>0.694809</td>\n",
       "      <td>0.937385</td>\n",
       "      <td>1.143935</td>\n",
       "      <td>NaN</td>\n",
       "      <td>-0.247505</td>\n",
       "      <td>-0.304956</td>\n",
       "      <td>1.327643</td>\n",
       "      <td>-0.188886</td>\n",
       "      <td>-1.286744</td>\n",
       "      <td>-0.599658</td>\n",
       "      <td>1.155942</td>\n",
       "    </tr>\n",
       "    <tr>\n",
       "      <th>8099</th>\n",
       "      <td>-0.800857</td>\n",
       "      <td>0.694809</td>\n",
       "      <td>0.937385</td>\n",
       "      <td>-0.560817</td>\n",
       "      <td>NaN</td>\n",
       "      <td>-0.133216</td>\n",
       "      <td>-0.304956</td>\n",
       "      <td>-0.272369</td>\n",
       "      <td>-0.188886</td>\n",
       "      <td>0.104560</td>\n",
       "      <td>0.980510</td>\n",
       "      <td>NaN</td>\n",
       "    </tr>\n",
       "  </tbody>\n",
       "</table>\n",
       "</div>"
      ],
      "text/plain": [
       "       bathrooms  bedrooms    floors     grade  sqrt_sqft_basement  sqft_lot  \\\n",
       "18157  -1.451069 -1.517353 -0.915591 -1.413193                 NaN -0.243883   \n",
       "18901  -1.451069 -1.517353 -0.915591 -1.413193                 NaN -0.219349   \n",
       "18694  -0.475751  1.800890 -0.915591 -0.560817            1.172244 -0.183515   \n",
       "20293   1.799990  0.694809  0.937385  1.143935                 NaN -0.247505   \n",
       "8099   -0.800857  0.694809  0.937385 -0.560817                 NaN -0.133216   \n",
       "\n",
       "           view  yr_built  yr_renovated   pop_bin  box_cox_condition  \\\n",
       "18157 -0.304956  0.170187     -0.188886  0.104560          -0.599658   \n",
       "18901 -0.304956 -0.987268     -0.188886  1.148039          -0.599658   \n",
       "18694 -0.304956  0.272316     -0.188886  0.800213          -0.599658   \n",
       "20293 -0.304956  1.327643     -0.188886 -1.286744          -0.599658   \n",
       "8099  -0.304956 -0.272369     -0.188886  0.104560           0.980510   \n",
       "\n",
       "       sqrt_living_fraction  \n",
       "18157                   NaN  \n",
       "18901                   NaN  \n",
       "18694                   NaN  \n",
       "20293              1.155942  \n",
       "8099                    NaN  "
      ]
     },
     "execution_count": 113,
     "metadata": {},
     "output_type": "execute_result"
    }
   ],
   "source": [
    "df_for_hetero.head()"
   ]
  },
  {
   "cell_type": "code",
   "execution_count": null,
   "metadata": {},
   "outputs": [],
   "source": []
  },
  {
   "cell_type": "code",
   "execution_count": null,
   "metadata": {},
   "outputs": [],
   "source": []
  },
  {
   "cell_type": "code",
   "execution_count": null,
   "metadata": {},
   "outputs": [],
   "source": []
  },
  {
   "cell_type": "code",
   "execution_count": null,
   "metadata": {},
   "outputs": [],
   "source": []
  },
  {
   "cell_type": "code",
   "execution_count": null,
   "metadata": {},
   "outputs": [],
   "source": []
  }
 ],
 "metadata": {
  "kernelspec": {
   "display_name": "Python 3",
   "language": "python",
   "name": "python3"
  },
  "language_info": {
   "codemirror_mode": {
    "name": "ipython",
    "version": 3
   },
   "file_extension": ".py",
   "mimetype": "text/x-python",
   "name": "python",
   "nbconvert_exporter": "python",
   "pygments_lexer": "ipython3",
   "version": "3.6.9"
  }
 },
 "nbformat": 4,
 "nbformat_minor": 4
}
