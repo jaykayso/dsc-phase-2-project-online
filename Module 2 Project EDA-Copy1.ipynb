{
 "cells": [
  {
   "cell_type": "markdown",
   "metadata": {},
   "source": [
    "# Module 2 Project: Exploratory Data Analysis"
   ]
  },
  {
   "cell_type": "code",
   "execution_count": 1,
   "metadata": {},
   "outputs": [],
   "source": [
    "import pandas as pd\n",
    "import numpy as np\n",
    "import seaborn as sns\n",
    "import plotly.offline as pyo\n",
    "from string import ascii_letters\n",
    "from statsmodels.formula.api import ols\n",
    "import pickle\n",
    "from sklearn.preprocessing import StandardScaler\n",
    "import matplotlib.pyplot as plt\n",
    "%matplotlib inline\n",
    "from statsmodels.stats.outliers_influence import variance_inflation_factor"
   ]
  },
  {
   "cell_type": "code",
   "execution_count": 2,
   "metadata": {},
   "outputs": [],
   "source": [
    "with open('new_df.pkl', 'rb') as pickle_file:\n",
    "    new_df = pickle.load(pickle_file)"
   ]
  },
  {
   "cell_type": "code",
   "execution_count": 3,
   "metadata": {},
   "outputs": [],
   "source": [
    "with open('stan_df.pkl', 'rb') as pickle_file:\n",
    "    stan_df = pickle.load(pickle_file)"
   ]
  },
  {
   "cell_type": "code",
   "execution_count": 4,
   "metadata": {},
   "outputs": [
    {
     "data": {
      "text/html": [
       "<div>\n",
       "<style scoped>\n",
       "    .dataframe tbody tr th:only-of-type {\n",
       "        vertical-align: middle;\n",
       "    }\n",
       "\n",
       "    .dataframe tbody tr th {\n",
       "        vertical-align: top;\n",
       "    }\n",
       "\n",
       "    .dataframe thead th {\n",
       "        text-align: right;\n",
       "    }\n",
       "</style>\n",
       "<table border=\"1\" class=\"dataframe\">\n",
       "  <thead>\n",
       "    <tr style=\"text-align: right;\">\n",
       "      <th></th>\n",
       "      <th>bathrooms</th>\n",
       "      <th>bedrooms</th>\n",
       "      <th>condition</th>\n",
       "      <th>floors</th>\n",
       "      <th>grade</th>\n",
       "      <th>price</th>\n",
       "      <th>sqft_above</th>\n",
       "      <th>sqft_basement</th>\n",
       "      <th>sqft_living</th>\n",
       "      <th>sqft_lot</th>\n",
       "      <th>view</th>\n",
       "      <th>yr_built</th>\n",
       "      <th>yr_renovated</th>\n",
       "      <th>pop_bin</th>\n",
       "      <th>sqft_non_living</th>\n",
       "      <th>box_cox_condition</th>\n",
       "      <th>sqrt_sqft_basement</th>\n",
       "      <th>living_fraction</th>\n",
       "      <th>sqrt_living_fraction</th>\n",
       "    </tr>\n",
       "  </thead>\n",
       "  <tbody>\n",
       "    <tr>\n",
       "      <th>0</th>\n",
       "      <td>2.25</td>\n",
       "      <td>3.0</td>\n",
       "      <td>3.0</td>\n",
       "      <td>2.0</td>\n",
       "      <td>7.0</td>\n",
       "      <td>257500.0</td>\n",
       "      <td>1715.0</td>\n",
       "      <td>0.0</td>\n",
       "      <td>1715.0</td>\n",
       "      <td>6819.0</td>\n",
       "      <td>0.0</td>\n",
       "      <td>1995.0</td>\n",
       "      <td>0.0</td>\n",
       "      <td>4.0</td>\n",
       "      <td>5104.0</td>\n",
       "      <td>0.936034</td>\n",
       "      <td>0.000000</td>\n",
       "      <td>0.251503</td>\n",
       "      <td>0.501501</td>\n",
       "    </tr>\n",
       "    <tr>\n",
       "      <th>1</th>\n",
       "      <td>1.00</td>\n",
       "      <td>2.0</td>\n",
       "      <td>4.0</td>\n",
       "      <td>1.0</td>\n",
       "      <td>7.0</td>\n",
       "      <td>189000.0</td>\n",
       "      <td>1200.0</td>\n",
       "      <td>0.0</td>\n",
       "      <td>1200.0</td>\n",
       "      <td>9850.0</td>\n",
       "      <td>0.0</td>\n",
       "      <td>1921.0</td>\n",
       "      <td>0.0</td>\n",
       "      <td>5.0</td>\n",
       "      <td>8650.0</td>\n",
       "      <td>1.134321</td>\n",
       "      <td>0.000000</td>\n",
       "      <td>0.121827</td>\n",
       "      <td>0.349038</td>\n",
       "    </tr>\n",
       "    <tr>\n",
       "      <th>2</th>\n",
       "      <td>2.75</td>\n",
       "      <td>5.0</td>\n",
       "      <td>3.0</td>\n",
       "      <td>2.0</td>\n",
       "      <td>9.0</td>\n",
       "      <td>861990.0</td>\n",
       "      <td>3595.0</td>\n",
       "      <td>0.0</td>\n",
       "      <td>3595.0</td>\n",
       "      <td>5639.0</td>\n",
       "      <td>0.0</td>\n",
       "      <td>2014.0</td>\n",
       "      <td>0.0</td>\n",
       "      <td>1.0</td>\n",
       "      <td>2044.0</td>\n",
       "      <td>0.936034</td>\n",
       "      <td>0.000000</td>\n",
       "      <td>0.637524</td>\n",
       "      <td>0.798451</td>\n",
       "    </tr>\n",
       "    <tr>\n",
       "      <th>3</th>\n",
       "      <td>2.50</td>\n",
       "      <td>4.0</td>\n",
       "      <td>3.0</td>\n",
       "      <td>2.0</td>\n",
       "      <td>10.0</td>\n",
       "      <td>720000.0</td>\n",
       "      <td>3450.0</td>\n",
       "      <td>0.0</td>\n",
       "      <td>3450.0</td>\n",
       "      <td>39683.0</td>\n",
       "      <td>0.0</td>\n",
       "      <td>2002.0</td>\n",
       "      <td>0.0</td>\n",
       "      <td>1.0</td>\n",
       "      <td>36233.0</td>\n",
       "      <td>0.936034</td>\n",
       "      <td>0.000000</td>\n",
       "      <td>0.086939</td>\n",
       "      <td>0.294854</td>\n",
       "    </tr>\n",
       "    <tr>\n",
       "      <th>4</th>\n",
       "      <td>1.75</td>\n",
       "      <td>3.0</td>\n",
       "      <td>4.0</td>\n",
       "      <td>1.0</td>\n",
       "      <td>7.0</td>\n",
       "      <td>272500.0</td>\n",
       "      <td>1160.0</td>\n",
       "      <td>380.0</td>\n",
       "      <td>1540.0</td>\n",
       "      <td>12600.0</td>\n",
       "      <td>0.0</td>\n",
       "      <td>1980.0</td>\n",
       "      <td>0.0</td>\n",
       "      <td>1.0</td>\n",
       "      <td>11060.0</td>\n",
       "      <td>1.134321</td>\n",
       "      <td>19.493589</td>\n",
       "      <td>0.122222</td>\n",
       "      <td>0.349603</td>\n",
       "    </tr>\n",
       "  </tbody>\n",
       "</table>\n",
       "</div>"
      ],
      "text/plain": [
       "   bathrooms  bedrooms  condition  floors  grade     price  sqft_above  \\\n",
       "0       2.25       3.0        3.0     2.0    7.0  257500.0      1715.0   \n",
       "1       1.00       2.0        4.0     1.0    7.0  189000.0      1200.0   \n",
       "2       2.75       5.0        3.0     2.0    9.0  861990.0      3595.0   \n",
       "3       2.50       4.0        3.0     2.0   10.0  720000.0      3450.0   \n",
       "4       1.75       3.0        4.0     1.0    7.0  272500.0      1160.0   \n",
       "\n",
       "   sqft_basement  sqft_living  sqft_lot  view  yr_built  yr_renovated  \\\n",
       "0            0.0       1715.0    6819.0   0.0    1995.0           0.0   \n",
       "1            0.0       1200.0    9850.0   0.0    1921.0           0.0   \n",
       "2            0.0       3595.0    5639.0   0.0    2014.0           0.0   \n",
       "3            0.0       3450.0   39683.0   0.0    2002.0           0.0   \n",
       "4          380.0       1540.0   12600.0   0.0    1980.0           0.0   \n",
       "\n",
       "   pop_bin  sqft_non_living  box_cox_condition  sqrt_sqft_basement  \\\n",
       "0      4.0           5104.0           0.936034            0.000000   \n",
       "1      5.0           8650.0           1.134321            0.000000   \n",
       "2      1.0           2044.0           0.936034            0.000000   \n",
       "3      1.0          36233.0           0.936034            0.000000   \n",
       "4      1.0          11060.0           1.134321           19.493589   \n",
       "\n",
       "   living_fraction  sqrt_living_fraction  \n",
       "0         0.251503              0.501501  \n",
       "1         0.121827              0.349038  \n",
       "2         0.637524              0.798451  \n",
       "3         0.086939              0.294854  \n",
       "4         0.122222              0.349603  "
      ]
     },
     "execution_count": 4,
     "metadata": {},
     "output_type": "execute_result"
    }
   ],
   "source": [
    "new_df.head()"
   ]
  },
  {
   "cell_type": "code",
   "execution_count": 5,
   "metadata": {
    "scrolled": false
   },
   "outputs": [
    {
     "data": {
      "text/html": [
       "<div>\n",
       "<style scoped>\n",
       "    .dataframe tbody tr th:only-of-type {\n",
       "        vertical-align: middle;\n",
       "    }\n",
       "\n",
       "    .dataframe tbody tr th {\n",
       "        vertical-align: top;\n",
       "    }\n",
       "\n",
       "    .dataframe thead th {\n",
       "        text-align: right;\n",
       "    }\n",
       "</style>\n",
       "<table border=\"1\" class=\"dataframe\">\n",
       "  <thead>\n",
       "    <tr style=\"text-align: right;\">\n",
       "      <th></th>\n",
       "      <th>bathrooms</th>\n",
       "      <th>bedrooms</th>\n",
       "      <th>condition</th>\n",
       "      <th>floors</th>\n",
       "      <th>grade</th>\n",
       "      <th>price</th>\n",
       "      <th>sqft_above</th>\n",
       "      <th>sqft_basement</th>\n",
       "      <th>sqft_living</th>\n",
       "      <th>sqft_lot</th>\n",
       "      <th>view</th>\n",
       "      <th>yr_built</th>\n",
       "      <th>yr_renovated</th>\n",
       "      <th>pop_bin</th>\n",
       "      <th>sqft_non_living</th>\n",
       "      <th>box_cox_condition</th>\n",
       "      <th>sqrt_sqft_basement</th>\n",
       "      <th>living_fraction</th>\n",
       "      <th>sqrt_living_fraction</th>\n",
       "    </tr>\n",
       "  </thead>\n",
       "  <tbody>\n",
       "    <tr>\n",
       "      <th>0</th>\n",
       "      <td>0.174461</td>\n",
       "      <td>-0.411272</td>\n",
       "      <td>-0.629946</td>\n",
       "      <td>0.937385</td>\n",
       "      <td>-0.560817</td>\n",
       "      <td>-0.769779</td>\n",
       "      <td>-0.088954</td>\n",
       "      <td>-0.658992</td>\n",
       "      <td>-0.397934</td>\n",
       "      <td>-0.199959</td>\n",
       "      <td>-0.304956</td>\n",
       "      <td>0.817001</td>\n",
       "      <td>-0.188886</td>\n",
       "      <td>-0.243266</td>\n",
       "      <td>-0.191829</td>\n",
       "      <td>-0.599658</td>\n",
       "      <td>-0.755441</td>\n",
       "      <td>-0.269146</td>\n",
       "      <td>-0.133176</td>\n",
       "    </tr>\n",
       "    <tr>\n",
       "      <th>1</th>\n",
       "      <td>-1.451069</td>\n",
       "      <td>-1.517353</td>\n",
       "      <td>0.907438</td>\n",
       "      <td>-0.915591</td>\n",
       "      <td>-0.560817</td>\n",
       "      <td>-0.956241</td>\n",
       "      <td>-0.711127</td>\n",
       "      <td>-0.658992</td>\n",
       "      <td>-0.958874</td>\n",
       "      <td>-0.126769</td>\n",
       "      <td>-0.304956</td>\n",
       "      <td>-1.702167</td>\n",
       "      <td>-0.188886</td>\n",
       "      <td>0.104560</td>\n",
       "      <td>-0.105893</td>\n",
       "      <td>0.980510</td>\n",
       "      <td>-0.755441</td>\n",
       "      <td>-0.752182</td>\n",
       "      <td>-0.863405</td>\n",
       "    </tr>\n",
       "    <tr>\n",
       "      <th>2</th>\n",
       "      <td>0.824672</td>\n",
       "      <td>1.800890</td>\n",
       "      <td>-0.629946</td>\n",
       "      <td>0.937385</td>\n",
       "      <td>1.143935</td>\n",
       "      <td>0.875685</td>\n",
       "      <td>2.182279</td>\n",
       "      <td>-0.658992</td>\n",
       "      <td>1.649772</td>\n",
       "      <td>-0.228453</td>\n",
       "      <td>-0.304956</td>\n",
       "      <td>1.463814</td>\n",
       "      <td>-0.188886</td>\n",
       "      <td>-1.286744</td>\n",
       "      <td>-0.265987</td>\n",
       "      <td>-0.599658</td>\n",
       "      <td>-0.755441</td>\n",
       "      <td>1.168765</td>\n",
       "      <td>1.289080</td>\n",
       "    </tr>\n",
       "    <tr>\n",
       "      <th>3</th>\n",
       "      <td>0.499567</td>\n",
       "      <td>0.694809</td>\n",
       "      <td>-0.629946</td>\n",
       "      <td>0.937385</td>\n",
       "      <td>1.996311</td>\n",
       "      <td>0.489178</td>\n",
       "      <td>2.007104</td>\n",
       "      <td>-0.658992</td>\n",
       "      <td>1.491837</td>\n",
       "      <td>0.593616</td>\n",
       "      <td>-0.304956</td>\n",
       "      <td>1.055300</td>\n",
       "      <td>-0.188886</td>\n",
       "      <td>-1.286744</td>\n",
       "      <td>0.562571</td>\n",
       "      <td>-0.599658</td>\n",
       "      <td>-0.755441</td>\n",
       "      <td>-0.882140</td>\n",
       "      <td>-1.122920</td>\n",
       "    </tr>\n",
       "    <tr>\n",
       "      <th>4</th>\n",
       "      <td>-0.475751</td>\n",
       "      <td>-0.411272</td>\n",
       "      <td>0.907438</td>\n",
       "      <td>-0.915591</td>\n",
       "      <td>-0.560817</td>\n",
       "      <td>-0.728948</td>\n",
       "      <td>-0.759452</td>\n",
       "      <td>0.199448</td>\n",
       "      <td>-0.588545</td>\n",
       "      <td>-0.060364</td>\n",
       "      <td>-0.304956</td>\n",
       "      <td>0.306358</td>\n",
       "      <td>-0.188886</td>\n",
       "      <td>-1.286744</td>\n",
       "      <td>-0.047487</td>\n",
       "      <td>0.980510</td>\n",
       "      <td>0.674968</td>\n",
       "      <td>-0.750711</td>\n",
       "      <td>-0.860698</td>\n",
       "    </tr>\n",
       "  </tbody>\n",
       "</table>\n",
       "</div>"
      ],
      "text/plain": [
       "   bathrooms  bedrooms  condition    floors     grade     price  sqft_above  \\\n",
       "0   0.174461 -0.411272  -0.629946  0.937385 -0.560817 -0.769779   -0.088954   \n",
       "1  -1.451069 -1.517353   0.907438 -0.915591 -0.560817 -0.956241   -0.711127   \n",
       "2   0.824672  1.800890  -0.629946  0.937385  1.143935  0.875685    2.182279   \n",
       "3   0.499567  0.694809  -0.629946  0.937385  1.996311  0.489178    2.007104   \n",
       "4  -0.475751 -0.411272   0.907438 -0.915591 -0.560817 -0.728948   -0.759452   \n",
       "\n",
       "   sqft_basement  sqft_living  sqft_lot      view  yr_built  yr_renovated  \\\n",
       "0      -0.658992    -0.397934 -0.199959 -0.304956  0.817001     -0.188886   \n",
       "1      -0.658992    -0.958874 -0.126769 -0.304956 -1.702167     -0.188886   \n",
       "2      -0.658992     1.649772 -0.228453 -0.304956  1.463814     -0.188886   \n",
       "3      -0.658992     1.491837  0.593616 -0.304956  1.055300     -0.188886   \n",
       "4       0.199448    -0.588545 -0.060364 -0.304956  0.306358     -0.188886   \n",
       "\n",
       "    pop_bin  sqft_non_living  box_cox_condition  sqrt_sqft_basement  \\\n",
       "0 -0.243266        -0.191829          -0.599658           -0.755441   \n",
       "1  0.104560        -0.105893           0.980510           -0.755441   \n",
       "2 -1.286744        -0.265987          -0.599658           -0.755441   \n",
       "3 -1.286744         0.562571          -0.599658           -0.755441   \n",
       "4 -1.286744        -0.047487           0.980510            0.674968   \n",
       "\n",
       "   living_fraction  sqrt_living_fraction  \n",
       "0        -0.269146             -0.133176  \n",
       "1        -0.752182             -0.863405  \n",
       "2         1.168765              1.289080  \n",
       "3        -0.882140             -1.122920  \n",
       "4        -0.750711             -0.860698  "
      ]
     },
     "execution_count": 5,
     "metadata": {},
     "output_type": "execute_result"
    }
   ],
   "source": [
    "stan_df.head()"
   ]
  },
  {
   "cell_type": "markdown",
   "metadata": {},
   "source": [
    "### Distribution of variables can be inspected."
   ]
  },
  {
   "cell_type": "code",
   "execution_count": 6,
   "metadata": {
    "scrolled": true
   },
   "outputs": [
    {
     "data": {
      "image/png": "[encoded data removed]",
      "text/plain": [
       "<Figure size 1800x1800 with 20 Axes>"
      ]
     },
     "metadata": {
      "needs_background": "light"
     },
     "output_type": "display_data"
    }
   ],
   "source": [
    "import warnings\n",
    "warnings.filterwarnings('ignore')\n",
    "fig = plt.figure(figsize = (25,25))\n",
    "ax = fig.gca()\n",
    "stan_df.hist(ax = ax);"
   ]
  },
  {
   "cell_type": "markdown",
   "metadata": {},
   "source": [
    "### The relationships between input variables and property price can be analysed."
   ]
  },
  {
   "cell_type": "code",
   "execution_count": 7,
   "metadata": {},
   "outputs": [
    {
     "data": {
      "image/png": "[encoded data removed]",
      "text/plain": [
       "<Figure size 1728x3024 with 18 Axes>"
      ]
     },
     "metadata": {
      "needs_background": "light"
     },
     "output_type": "display_data"
    }
   ],
   "source": [
    "fig, axs = plt.subplots(6,3)\n",
    "fig.set_figwidth(24)\n",
    "fig.set_figheight(42)\n",
    "for ax, col in zip(axs.flat, stan_df.columns):\n",
    "    try:\n",
    "        ax.scatter(x=col, y='price', data=stan_df)\n",
    "        ax.set_title(col)\n",
    "    except:\n",
    "        ax.set_title(col)\n",
    "        continue"
   ]
  },
  {
   "cell_type": "code",
   "execution_count": 8,
   "metadata": {},
   "outputs": [],
   "source": [
    "#breusch-pagan or cook-weisberg"
   ]
  },
  {
   "cell_type": "code",
   "execution_count": null,
   "metadata": {},
   "outputs": [],
   "source": []
  },
  {
   "cell_type": "code",
   "execution_count": null,
   "metadata": {},
   "outputs": [],
   "source": []
  },
  {
   "cell_type": "code",
   "execution_count": null,
   "metadata": {},
   "outputs": [],
   "source": []
  },
  {
   "cell_type": "markdown",
   "metadata": {},
   "source": [
    "# VIF testing will test for multicolinearity. "
   ]
  },
  {
   "cell_type": "markdown",
   "metadata": {},
   "source": [
    "VIF of greater than 5 indicates multicolinearity."
   ]
  },
  {
   "cell_type": "code",
   "execution_count": 9,
   "metadata": {},
   "outputs": [],
   "source": [
    "from statsmodels.stats.outliers_influence import variance_inflation_factor"
   ]
  },
  {
   "cell_type": "code",
   "execution_count": 10,
   "metadata": {},
   "outputs": [
    {
     "data": {
      "text/plain": [
       "Index(['bathrooms', 'bedrooms', 'condition', 'floors', 'grade', 'price',\n",
       "       'sqft_above', 'sqft_basement', 'sqft_living', 'sqft_lot', 'view',\n",
       "       'yr_built', 'yr_renovated', 'pop_bin', 'sqft_non_living',\n",
       "       'box_cox_condition', 'sqrt_sqft_basement', 'living_fraction',\n",
       "       'sqrt_living_fraction'],\n",
       "      dtype='object')"
      ]
     },
     "execution_count": 10,
     "metadata": {},
     "output_type": "execute_result"
    }
   ],
   "source": [
    "stan_df.columns"
   ]
  },
  {
   "cell_type": "code",
   "execution_count": 11,
   "metadata": {},
   "outputs": [],
   "source": [
    "outcome = 'price'\n",
    "x_cols = ['bathrooms', 'bedrooms', 'condition', 'floors', 'grade', 'price',\n",
    "       'sqft_above', 'sqft_basement', 'sqft_living', 'sqft_lot', 'view',\n",
    "       'yr_built', 'yr_renovated', 'pop_bin', 'sqft_non_living',\n",
    "       'box_cox_condition', 'sqrt_sqft_basement', 'living_fraction',\n",
    "       'sqrt_living_fraction']"
   ]
  },
  {
   "cell_type": "code",
   "execution_count": 12,
   "metadata": {
    "scrolled": true
   },
   "outputs": [
    {
     "data": {
      "text/plain": [
       "[('bathrooms', 3.490983259844102),\n",
       " ('bedrooms', 1.742266098812344),\n",
       " ('condition', 25.231148801506478),\n",
       " ('floors', 2.9167183149873765),\n",
       " ('grade', 3.5163302488091333),\n",
       " ('price', 2.926701584257691),\n",
       " ('sqft_above', inf),\n",
       " ('sqft_basement', inf),\n",
       " ('sqft_living', inf),\n",
       " ('sqft_lot', inf),\n",
       " ('view', 1.245365959192836),\n",
       " ('yr_built', 2.867641045823202),\n",
       " ('yr_renovated', 1.1210597955204604),\n",
       " ('pop_bin', 2.126782029363906),\n",
       " ('sqft_non_living', inf),\n",
       " ('box_cox_condition', 24.43685610982357),\n",
       " ('sqrt_sqft_basement', 15.99369740256191),\n",
       " ('living_fraction', 20.53300206246598),\n",
       " ('sqrt_living_fraction', 22.76817040131883)]"
      ]
     },
     "execution_count": 12,
     "metadata": {},
     "output_type": "execute_result"
    }
   ],
   "source": [
    "X = stan_df[x_cols]\n",
    "vif = [variance_inflation_factor(X.values, i) for i in range(X.shape[1])]\n",
    "list(zip(x_cols, vif))"
   ]
  },
  {
   "cell_type": "markdown",
   "metadata": {},
   "source": [
    "### Eliminating condition, sqft_above, sqft_living, sqft_non_living, sqft_basement, living_fraction. "
   ]
  },
  {
   "cell_type": "markdown",
   "metadata": {},
   "source": [
    "We have already accomodated for these prior to scaling by: \n",
    " - Taking the **square root** of sqft_baasement. \n",
    " - Taking the **square root** of living_fraction.\n",
    " - Completing a **box cox transformation** for condition. "
   ]
  },
  {
   "cell_type": "code",
   "execution_count": 13,
   "metadata": {},
   "outputs": [],
   "source": [
    "outcome = 'price'\n",
    "x_cols = ['bathrooms', 'bedrooms', 'floors', 'grade', 'price',\n",
    "          'sqft_lot', 'view', 'yr_built', 'yr_renovated', 'pop_bin',\n",
    "          'box_cox_condition', 'sqrt_sqft_basement',\n",
    "          'sqrt_living_fraction']"
   ]
  },
  {
   "cell_type": "code",
   "execution_count": 14,
   "metadata": {
    "scrolled": false
   },
   "outputs": [
    {
     "data": {
      "text/plain": [
       "[('bathrooms', 3.1457852196352944),\n",
       " ('bedrooms', 1.4950085963261066),\n",
       " ('floors', 2.7447982389465237),\n",
       " ('grade', 2.8956983321078167),\n",
       " ('price', 2.498934221827768),\n",
       " ('sqft_lot', 1.3062245904619607),\n",
       " ('view', 1.2336899631017155),\n",
       " ('yr_built', 2.737510072965355),\n",
       " ('yr_renovated', 1.1120057115891067),\n",
       " ('pop_bin', 1.9639611463237991),\n",
       " ('box_cox_condition', 1.1854512978476208),\n",
       " ('sqrt_sqft_basement', 1.7596469117711557),\n",
       " ('sqrt_living_fraction', 2.66548182831867)]"
      ]
     },
     "execution_count": 14,
     "metadata": {},
     "output_type": "execute_result"
    }
   ],
   "source": [
    "X = stan_df[x_cols]\n",
    "vif = [variance_inflation_factor(X.values, i) for i in range(X.shape[1])]\n",
    "list(zip(x_cols, vif))"
   ]
  },
  {
   "cell_type": "code",
   "execution_count": 15,
   "metadata": {},
   "outputs": [],
   "source": [
    "outliers_df = stan_df[x_cols]"
   ]
  },
  {
   "cell_type": "code",
   "execution_count": 16,
   "metadata": {},
   "outputs": [
    {
     "data": {
      "text/html": [
       "<div>\n",
       "<style scoped>\n",
       "    .dataframe tbody tr th:only-of-type {\n",
       "        vertical-align: middle;\n",
       "    }\n",
       "\n",
       "    .dataframe tbody tr th {\n",
       "        vertical-align: top;\n",
       "    }\n",
       "\n",
       "    .dataframe thead th {\n",
       "        text-align: right;\n",
       "    }\n",
       "</style>\n",
       "<table border=\"1\" class=\"dataframe\">\n",
       "  <thead>\n",
       "    <tr style=\"text-align: right;\">\n",
       "      <th></th>\n",
       "      <th>bathrooms</th>\n",
       "      <th>bedrooms</th>\n",
       "      <th>floors</th>\n",
       "      <th>grade</th>\n",
       "      <th>price</th>\n",
       "      <th>sqft_lot</th>\n",
       "      <th>view</th>\n",
       "      <th>yr_built</th>\n",
       "      <th>yr_renovated</th>\n",
       "      <th>pop_bin</th>\n",
       "      <th>box_cox_condition</th>\n",
       "      <th>sqrt_sqft_basement</th>\n",
       "      <th>sqrt_living_fraction</th>\n",
       "    </tr>\n",
       "  </thead>\n",
       "  <tbody>\n",
       "    <tr>\n",
       "      <th>0</th>\n",
       "      <td>0.174461</td>\n",
       "      <td>-0.411272</td>\n",
       "      <td>0.937385</td>\n",
       "      <td>-0.560817</td>\n",
       "      <td>-0.769779</td>\n",
       "      <td>-0.199959</td>\n",
       "      <td>-0.304956</td>\n",
       "      <td>0.817001</td>\n",
       "      <td>-0.188886</td>\n",
       "      <td>-0.243266</td>\n",
       "      <td>-0.599658</td>\n",
       "      <td>-0.755441</td>\n",
       "      <td>-0.133176</td>\n",
       "    </tr>\n",
       "    <tr>\n",
       "      <th>1</th>\n",
       "      <td>-1.451069</td>\n",
       "      <td>-1.517353</td>\n",
       "      <td>-0.915591</td>\n",
       "      <td>-0.560817</td>\n",
       "      <td>-0.956241</td>\n",
       "      <td>-0.126769</td>\n",
       "      <td>-0.304956</td>\n",
       "      <td>-1.702167</td>\n",
       "      <td>-0.188886</td>\n",
       "      <td>0.104560</td>\n",
       "      <td>0.980510</td>\n",
       "      <td>-0.755441</td>\n",
       "      <td>-0.863405</td>\n",
       "    </tr>\n",
       "    <tr>\n",
       "      <th>2</th>\n",
       "      <td>0.824672</td>\n",
       "      <td>1.800890</td>\n",
       "      <td>0.937385</td>\n",
       "      <td>1.143935</td>\n",
       "      <td>0.875685</td>\n",
       "      <td>-0.228453</td>\n",
       "      <td>-0.304956</td>\n",
       "      <td>1.463814</td>\n",
       "      <td>-0.188886</td>\n",
       "      <td>-1.286744</td>\n",
       "      <td>-0.599658</td>\n",
       "      <td>-0.755441</td>\n",
       "      <td>1.289080</td>\n",
       "    </tr>\n",
       "    <tr>\n",
       "      <th>3</th>\n",
       "      <td>0.499567</td>\n",
       "      <td>0.694809</td>\n",
       "      <td>0.937385</td>\n",
       "      <td>1.996311</td>\n",
       "      <td>0.489178</td>\n",
       "      <td>0.593616</td>\n",
       "      <td>-0.304956</td>\n",
       "      <td>1.055300</td>\n",
       "      <td>-0.188886</td>\n",
       "      <td>-1.286744</td>\n",
       "      <td>-0.599658</td>\n",
       "      <td>-0.755441</td>\n",
       "      <td>-1.122920</td>\n",
       "    </tr>\n",
       "    <tr>\n",
       "      <th>4</th>\n",
       "      <td>-0.475751</td>\n",
       "      <td>-0.411272</td>\n",
       "      <td>-0.915591</td>\n",
       "      <td>-0.560817</td>\n",
       "      <td>-0.728948</td>\n",
       "      <td>-0.060364</td>\n",
       "      <td>-0.304956</td>\n",
       "      <td>0.306358</td>\n",
       "      <td>-0.188886</td>\n",
       "      <td>-1.286744</td>\n",
       "      <td>0.980510</td>\n",
       "      <td>0.674968</td>\n",
       "      <td>-0.860698</td>\n",
       "    </tr>\n",
       "  </tbody>\n",
       "</table>\n",
       "</div>"
      ],
      "text/plain": [
       "   bathrooms  bedrooms    floors     grade     price  sqft_lot      view  \\\n",
       "0   0.174461 -0.411272  0.937385 -0.560817 -0.769779 -0.199959 -0.304956   \n",
       "1  -1.451069 -1.517353 -0.915591 -0.560817 -0.956241 -0.126769 -0.304956   \n",
       "2   0.824672  1.800890  0.937385  1.143935  0.875685 -0.228453 -0.304956   \n",
       "3   0.499567  0.694809  0.937385  1.996311  0.489178  0.593616 -0.304956   \n",
       "4  -0.475751 -0.411272 -0.915591 -0.560817 -0.728948 -0.060364 -0.304956   \n",
       "\n",
       "   yr_built  yr_renovated   pop_bin  box_cox_condition  sqrt_sqft_basement  \\\n",
       "0  0.817001     -0.188886 -0.243266          -0.599658           -0.755441   \n",
       "1 -1.702167     -0.188886  0.104560           0.980510           -0.755441   \n",
       "2  1.463814     -0.188886 -1.286744          -0.599658           -0.755441   \n",
       "3  1.055300     -0.188886 -1.286744          -0.599658           -0.755441   \n",
       "4  0.306358     -0.188886 -1.286744           0.980510            0.674968   \n",
       "\n",
       "   sqrt_living_fraction  \n",
       "0             -0.133176  \n",
       "1             -0.863405  \n",
       "2              1.289080  \n",
       "3             -1.122920  \n",
       "4             -0.860698  "
      ]
     },
     "execution_count": 16,
     "metadata": {},
     "output_type": "execute_result"
    }
   ],
   "source": [
    "outliers_df.head()"
   ]
  },
  {
   "cell_type": "markdown",
   "metadata": {},
   "source": [
    "# Outliers can be removed using  IQR score."
   ]
  },
  {
   "cell_type": "code",
   "execution_count": 65,
   "metadata": {},
   "outputs": [
    {
     "name": "stdout",
     "output_type": "stream",
     "text": [
      "bathrooms               0.975318\n",
      "bedrooms                1.106081\n",
      "floors                  1.852976\n",
      "grade                   0.852376\n",
      "price                   1.030303\n",
      "sqft_lot                0.172484\n",
      "view                    0.000000\n",
      "yr_built                1.702140\n",
      "yr_renovated            0.000000\n",
      "pop_bin                 1.391304\n",
      "box_cox_condition       1.580169\n",
      "sqrt_sqft_basement      1.941411\n",
      "sqrt_living_fraction    1.350935\n",
      "dtype: float64\n"
     ]
    }
   ],
   "source": [
    "Q1 = outliers_df.quantile(0.25)\n",
    "Q3 = outliers_df.quantile(0.8)\n",
    "IQR = Q3 - Q1\n",
    "print(IQR)"
   ]
  },
  {
   "cell_type": "markdown",
   "metadata": {},
   "source": []
  },
  {
   "cell_type": "code",
   "execution_count": 66,
   "metadata": {
    "scrolled": true
   },
   "outputs": [
    {
     "name": "stdout",
     "output_type": "stream",
     "text": [
      "       bathrooms  bedrooms  floors  grade  price  sqft_lot   view  yr_built  \\\n",
      "0          False     False   False  False  False     False  False     False   \n",
      "1          False     False   False  False  False     False  False     False   \n",
      "2          False     False   False  False  False     False  False     False   \n",
      "3          False     False   False  False  False     False  False     False   \n",
      "4          False     False   False  False  False     False  False     False   \n",
      "...          ...       ...     ...    ...    ...       ...    ...       ...   \n",
      "21591      False     False   False  False  False     False  False     False   \n",
      "21592      False     False   False  False  False     False  False     False   \n",
      "21593      False     False   False  False  False     False  False     False   \n",
      "21594      False     False   False  False  False     False  False     False   \n",
      "21595      False     False   False  False  False     False  False     False   \n",
      "\n",
      "       yr_renovated  pop_bin  box_cox_condition  sqrt_sqft_basement  \\\n",
      "0             False    False              False               False   \n",
      "1             False    False              False               False   \n",
      "2             False    False              False               False   \n",
      "3             False    False              False               False   \n",
      "4             False    False              False               False   \n",
      "...             ...      ...                ...                 ...   \n",
      "21591         False    False              False               False   \n",
      "21592         False    False              False               False   \n",
      "21593         False    False              False               False   \n",
      "21594         False    False              False               False   \n",
      "21595         False    False              False               False   \n",
      "\n",
      "       sqrt_living_fraction  \n",
      "0                     False  \n",
      "1                     False  \n",
      "2                     False  \n",
      "3                     False  \n",
      "4                     False  \n",
      "...                     ...  \n",
      "21591                 False  \n",
      "21592                 False  \n",
      "21593                 False  \n",
      "21594                 False  \n",
      "21595                 False  \n",
      "\n",
      "[21596 rows x 13 columns]\n"
     ]
    },
    {
     "data": {
      "text/html": [
       "<div>\n",
       "<style scoped>\n",
       "    .dataframe tbody tr th:only-of-type {\n",
       "        vertical-align: middle;\n",
       "    }\n",
       "\n",
       "    .dataframe tbody tr th {\n",
       "        vertical-align: top;\n",
       "    }\n",
       "\n",
       "    .dataframe thead th {\n",
       "        text-align: right;\n",
       "    }\n",
       "</style>\n",
       "<table border=\"1\" class=\"dataframe\">\n",
       "  <thead>\n",
       "    <tr style=\"text-align: right;\">\n",
       "      <th></th>\n",
       "      <th>bathrooms</th>\n",
       "      <th>bedrooms</th>\n",
       "      <th>floors</th>\n",
       "      <th>grade</th>\n",
       "      <th>price</th>\n",
       "      <th>sqft_lot</th>\n",
       "      <th>view</th>\n",
       "      <th>yr_built</th>\n",
       "      <th>yr_renovated</th>\n",
       "      <th>pop_bin</th>\n",
       "      <th>box_cox_condition</th>\n",
       "      <th>sqrt_sqft_basement</th>\n",
       "      <th>sqrt_living_fraction</th>\n",
       "    </tr>\n",
       "  </thead>\n",
       "  <tbody>\n",
       "    <tr>\n",
       "      <th>0</th>\n",
       "      <td>False</td>\n",
       "      <td>False</td>\n",
       "      <td>False</td>\n",
       "      <td>False</td>\n",
       "      <td>False</td>\n",
       "      <td>False</td>\n",
       "      <td>False</td>\n",
       "      <td>False</td>\n",
       "      <td>False</td>\n",
       "      <td>False</td>\n",
       "      <td>False</td>\n",
       "      <td>False</td>\n",
       "      <td>False</td>\n",
       "    </tr>\n",
       "    <tr>\n",
       "      <th>1</th>\n",
       "      <td>False</td>\n",
       "      <td>False</td>\n",
       "      <td>False</td>\n",
       "      <td>False</td>\n",
       "      <td>False</td>\n",
       "      <td>False</td>\n",
       "      <td>False</td>\n",
       "      <td>False</td>\n",
       "      <td>False</td>\n",
       "      <td>False</td>\n",
       "      <td>False</td>\n",
       "      <td>False</td>\n",
       "      <td>False</td>\n",
       "    </tr>\n",
       "    <tr>\n",
       "      <th>2</th>\n",
       "      <td>False</td>\n",
       "      <td>False</td>\n",
       "      <td>False</td>\n",
       "      <td>False</td>\n",
       "      <td>False</td>\n",
       "      <td>False</td>\n",
       "      <td>False</td>\n",
       "      <td>False</td>\n",
       "      <td>False</td>\n",
       "      <td>False</td>\n",
       "      <td>False</td>\n",
       "      <td>False</td>\n",
       "      <td>False</td>\n",
       "    </tr>\n",
       "    <tr>\n",
       "      <th>3</th>\n",
       "      <td>False</td>\n",
       "      <td>False</td>\n",
       "      <td>False</td>\n",
       "      <td>True</td>\n",
       "      <td>False</td>\n",
       "      <td>True</td>\n",
       "      <td>False</td>\n",
       "      <td>False</td>\n",
       "      <td>False</td>\n",
       "      <td>False</td>\n",
       "      <td>False</td>\n",
       "      <td>False</td>\n",
       "      <td>False</td>\n",
       "    </tr>\n",
       "    <tr>\n",
       "      <th>4</th>\n",
       "      <td>False</td>\n",
       "      <td>False</td>\n",
       "      <td>False</td>\n",
       "      <td>False</td>\n",
       "      <td>False</td>\n",
       "      <td>False</td>\n",
       "      <td>False</td>\n",
       "      <td>False</td>\n",
       "      <td>False</td>\n",
       "      <td>False</td>\n",
       "      <td>False</td>\n",
       "      <td>False</td>\n",
       "      <td>False</td>\n",
       "    </tr>\n",
       "    <tr>\n",
       "      <th>...</th>\n",
       "      <td>...</td>\n",
       "      <td>...</td>\n",
       "      <td>...</td>\n",
       "      <td>...</td>\n",
       "      <td>...</td>\n",
       "      <td>...</td>\n",
       "      <td>...</td>\n",
       "      <td>...</td>\n",
       "      <td>...</td>\n",
       "      <td>...</td>\n",
       "      <td>...</td>\n",
       "      <td>...</td>\n",
       "      <td>...</td>\n",
       "    </tr>\n",
       "    <tr>\n",
       "      <th>21591</th>\n",
       "      <td>False</td>\n",
       "      <td>False</td>\n",
       "      <td>False</td>\n",
       "      <td>False</td>\n",
       "      <td>False</td>\n",
       "      <td>False</td>\n",
       "      <td>False</td>\n",
       "      <td>False</td>\n",
       "      <td>False</td>\n",
       "      <td>False</td>\n",
       "      <td>False</td>\n",
       "      <td>False</td>\n",
       "      <td>True</td>\n",
       "    </tr>\n",
       "    <tr>\n",
       "      <th>21592</th>\n",
       "      <td>False</td>\n",
       "      <td>False</td>\n",
       "      <td>False</td>\n",
       "      <td>False</td>\n",
       "      <td>False</td>\n",
       "      <td>False</td>\n",
       "      <td>False</td>\n",
       "      <td>False</td>\n",
       "      <td>False</td>\n",
       "      <td>False</td>\n",
       "      <td>False</td>\n",
       "      <td>False</td>\n",
       "      <td>False</td>\n",
       "    </tr>\n",
       "    <tr>\n",
       "      <th>21593</th>\n",
       "      <td>False</td>\n",
       "      <td>False</td>\n",
       "      <td>False</td>\n",
       "      <td>False</td>\n",
       "      <td>False</td>\n",
       "      <td>False</td>\n",
       "      <td>False</td>\n",
       "      <td>False</td>\n",
       "      <td>False</td>\n",
       "      <td>False</td>\n",
       "      <td>False</td>\n",
       "      <td>False</td>\n",
       "      <td>False</td>\n",
       "    </tr>\n",
       "    <tr>\n",
       "      <th>21594</th>\n",
       "      <td>False</td>\n",
       "      <td>False</td>\n",
       "      <td>False</td>\n",
       "      <td>False</td>\n",
       "      <td>False</td>\n",
       "      <td>False</td>\n",
       "      <td>False</td>\n",
       "      <td>False</td>\n",
       "      <td>False</td>\n",
       "      <td>False</td>\n",
       "      <td>False</td>\n",
       "      <td>False</td>\n",
       "      <td>False</td>\n",
       "    </tr>\n",
       "    <tr>\n",
       "      <th>21595</th>\n",
       "      <td>False</td>\n",
       "      <td>False</td>\n",
       "      <td>False</td>\n",
       "      <td>False</td>\n",
       "      <td>False</td>\n",
       "      <td>False</td>\n",
       "      <td>False</td>\n",
       "      <td>False</td>\n",
       "      <td>False</td>\n",
       "      <td>False</td>\n",
       "      <td>False</td>\n",
       "      <td>False</td>\n",
       "      <td>False</td>\n",
       "    </tr>\n",
       "  </tbody>\n",
       "</table>\n",
       "<p>21596 rows × 13 columns</p>\n",
       "</div>"
      ],
      "text/plain": [
       "       bathrooms  bedrooms  floors  grade  price  sqft_lot   view  yr_built  \\\n",
       "0          False     False   False  False  False     False  False     False   \n",
       "1          False     False   False  False  False     False  False     False   \n",
       "2          False     False   False  False  False     False  False     False   \n",
       "3          False     False   False   True  False      True  False     False   \n",
       "4          False     False   False  False  False     False  False     False   \n",
       "...          ...       ...     ...    ...    ...       ...    ...       ...   \n",
       "21591      False     False   False  False  False     False  False     False   \n",
       "21592      False     False   False  False  False     False  False     False   \n",
       "21593      False     False   False  False  False     False  False     False   \n",
       "21594      False     False   False  False  False     False  False     False   \n",
       "21595      False     False   False  False  False     False  False     False   \n",
       "\n",
       "       yr_renovated  pop_bin  box_cox_condition  sqrt_sqft_basement  \\\n",
       "0             False    False              False               False   \n",
       "1             False    False              False               False   \n",
       "2             False    False              False               False   \n",
       "3             False    False              False               False   \n",
       "4             False    False              False               False   \n",
       "...             ...      ...                ...                 ...   \n",
       "21591         False    False              False               False   \n",
       "21592         False    False              False               False   \n",
       "21593         False    False              False               False   \n",
       "21594         False    False              False               False   \n",
       "21595         False    False              False               False   \n",
       "\n",
       "       sqrt_living_fraction  \n",
       "0                     False  \n",
       "1                     False  \n",
       "2                     False  \n",
       "3                     False  \n",
       "4                     False  \n",
       "...                     ...  \n",
       "21591                  True  \n",
       "21592                 False  \n",
       "21593                 False  \n",
       "21594                 False  \n",
       "21595                 False  \n",
       "\n",
       "[21596 rows x 13 columns]"
      ]
     },
     "execution_count": 66,
     "metadata": {},
     "output_type": "execute_result"
    }
   ],
   "source": []
  },
  {
   "cell_type": "markdown",
   "metadata": {},
   "source": [
    "### Outliers can be removed."
   ]
  },
  {
   "cell_type": "code",
   "execution_count": 67,
   "metadata": {},
   "outputs": [],
   "source": [
    "stan_df_out = outliers_df"
   ]
  },
  {
   "cell_type": "code",
   "execution_count": 68,
   "metadata": {},
   "outputs": [
    {
     "data": {
      "text/plain": [
       "(15050, 13)"
      ]
     },
     "execution_count": 68,
     "metadata": {},
     "output_type": "execute_result"
    }
   ],
   "source": [
    "stan_df_out = outliers_df[~((outliers_df < (Q1 - 1.5 * IQR)) |(outliers_df > (Q3 + 1.5 * IQR))).any(axis=1)]\n",
    "stan_df_out.shape\n"
   ]
  },
  {
   "cell_type": "markdown",
   "metadata": {},
   "source": [
    "# Train-Test data split can be performed."
   ]
  },
  {
   "cell_type": "code",
   "execution_count": 69,
   "metadata": {},
   "outputs": [],
   "source": [
    "from sklearn.model_selection import train_test_split\n",
    "train, test = train_test_split(stan_df_out, test_size=0.3)"
   ]
  },
  {
   "cell_type": "code",
   "execution_count": 70,
   "metadata": {},
   "outputs": [
    {
     "data": {
      "text/plain": [
       "(4515, 13)"
      ]
     },
     "execution_count": 70,
     "metadata": {},
     "output_type": "execute_result"
    }
   ],
   "source": [
    "test.shape"
   ]
  },
  {
   "cell_type": "code",
   "execution_count": 71,
   "metadata": {},
   "outputs": [
    {
     "data": {
      "text/plain": [
       "(10535, 13)"
      ]
     },
     "execution_count": 71,
     "metadata": {},
     "output_type": "execute_result"
    }
   ],
   "source": [
    "train.shape"
   ]
  },
  {
   "cell_type": "markdown",
   "metadata": {},
   "source": [
    "# An initial model can be fit."
   ]
  },
  {
   "cell_type": "code",
   "execution_count": 72,
   "metadata": {
    "scrolled": true
   },
   "outputs": [
    {
     "data": {
      "text/html": [
       "<div>\n",
       "<style scoped>\n",
       "    .dataframe tbody tr th:only-of-type {\n",
       "        vertical-align: middle;\n",
       "    }\n",
       "\n",
       "    .dataframe tbody tr th {\n",
       "        vertical-align: top;\n",
       "    }\n",
       "\n",
       "    .dataframe thead th {\n",
       "        text-align: right;\n",
       "    }\n",
       "</style>\n",
       "<table border=\"1\" class=\"dataframe\">\n",
       "  <thead>\n",
       "    <tr style=\"text-align: right;\">\n",
       "      <th></th>\n",
       "      <th>bathrooms</th>\n",
       "      <th>bedrooms</th>\n",
       "      <th>floors</th>\n",
       "      <th>grade</th>\n",
       "      <th>price</th>\n",
       "      <th>sqft_lot</th>\n",
       "      <th>view</th>\n",
       "      <th>yr_built</th>\n",
       "      <th>yr_renovated</th>\n",
       "      <th>pop_bin</th>\n",
       "      <th>box_cox_condition</th>\n",
       "      <th>sqrt_sqft_basement</th>\n",
       "      <th>sqrt_living_fraction</th>\n",
       "    </tr>\n",
       "  </thead>\n",
       "  <tbody>\n",
       "    <tr>\n",
       "      <th>13043</th>\n",
       "      <td>0.499567</td>\n",
       "      <td>-0.411272</td>\n",
       "      <td>-0.915591</td>\n",
       "      <td>-0.560817</td>\n",
       "      <td>-0.382021</td>\n",
       "      <td>-0.188344</td>\n",
       "      <td>-0.304956</td>\n",
       "      <td>0.102102</td>\n",
       "      <td>-0.188886</td>\n",
       "      <td>0.104560</td>\n",
       "      <td>-0.599658</td>\n",
       "      <td>0.835366</td>\n",
       "      <td>-0.356819</td>\n",
       "    </tr>\n",
       "    <tr>\n",
       "      <th>2392</th>\n",
       "      <td>-1.451069</td>\n",
       "      <td>-1.517353</td>\n",
       "      <td>-0.915591</td>\n",
       "      <td>-1.413193</td>\n",
       "      <td>-0.357386</td>\n",
       "      <td>-0.285634</td>\n",
       "      <td>-0.304956</td>\n",
       "      <td>-1.804296</td>\n",
       "      <td>-0.188886</td>\n",
       "      <td>1.148039</td>\n",
       "      <td>0.980510</td>\n",
       "      <td>-0.755441</td>\n",
       "      <td>-0.036812</td>\n",
       "    </tr>\n",
       "    <tr>\n",
       "      <th>11450</th>\n",
       "      <td>0.174461</td>\n",
       "      <td>-0.411272</td>\n",
       "      <td>-0.915591</td>\n",
       "      <td>-0.560817</td>\n",
       "      <td>-0.297500</td>\n",
       "      <td>-0.151375</td>\n",
       "      <td>-0.304956</td>\n",
       "      <td>0.272316</td>\n",
       "      <td>-0.188886</td>\n",
       "      <td>0.104560</td>\n",
       "      <td>-0.599658</td>\n",
       "      <td>0.656022</td>\n",
       "      <td>-0.354844</td>\n",
       "    </tr>\n",
       "    <tr>\n",
       "      <th>3232</th>\n",
       "      <td>-1.451069</td>\n",
       "      <td>-0.411272</td>\n",
       "      <td>-0.915591</td>\n",
       "      <td>-1.413193</td>\n",
       "      <td>-1.074379</td>\n",
       "      <td>-0.182066</td>\n",
       "      <td>-0.304956</td>\n",
       "      <td>-0.442583</td>\n",
       "      <td>-0.188886</td>\n",
       "      <td>-0.591092</td>\n",
       "      <td>-0.599658</td>\n",
       "      <td>-0.755441</td>\n",
       "      <td>-0.650940</td>\n",
       "    </tr>\n",
       "    <tr>\n",
       "      <th>5388</th>\n",
       "      <td>0.174461</td>\n",
       "      <td>0.694809</td>\n",
       "      <td>0.937385</td>\n",
       "      <td>0.291559</td>\n",
       "      <td>-0.746642</td>\n",
       "      <td>-0.193126</td>\n",
       "      <td>-0.304956</td>\n",
       "      <td>0.340401</td>\n",
       "      <td>-0.188886</td>\n",
       "      <td>0.104560</td>\n",
       "      <td>0.980510</td>\n",
       "      <td>-0.755441</td>\n",
       "      <td>0.003352</td>\n",
       "    </tr>\n",
       "  </tbody>\n",
       "</table>\n",
       "</div>"
      ],
      "text/plain": [
       "       bathrooms  bedrooms    floors     grade     price  sqft_lot      view  \\\n",
       "13043   0.499567 -0.411272 -0.915591 -0.560817 -0.382021 -0.188344 -0.304956   \n",
       "2392   -1.451069 -1.517353 -0.915591 -1.413193 -0.357386 -0.285634 -0.304956   \n",
       "11450   0.174461 -0.411272 -0.915591 -0.560817 -0.297500 -0.151375 -0.304956   \n",
       "3232   -1.451069 -0.411272 -0.915591 -1.413193 -1.074379 -0.182066 -0.304956   \n",
       "5388    0.174461  0.694809  0.937385  0.291559 -0.746642 -0.193126 -0.304956   \n",
       "\n",
       "       yr_built  yr_renovated   pop_bin  box_cox_condition  \\\n",
       "13043  0.102102     -0.188886  0.104560          -0.599658   \n",
       "2392  -1.804296     -0.188886  1.148039           0.980510   \n",
       "11450  0.272316     -0.188886  0.104560          -0.599658   \n",
       "3232  -0.442583     -0.188886 -0.591092          -0.599658   \n",
       "5388   0.340401     -0.188886  0.104560           0.980510   \n",
       "\n",
       "       sqrt_sqft_basement  sqrt_living_fraction  \n",
       "13043            0.835366             -0.356819  \n",
       "2392            -0.755441             -0.036812  \n",
       "11450            0.656022             -0.354844  \n",
       "3232            -0.755441             -0.650940  \n",
       "5388            -0.755441              0.003352  "
      ]
     },
     "execution_count": 72,
     "metadata": {},
     "output_type": "execute_result"
    }
   ],
   "source": [
    "train.head()"
   ]
  },
  {
   "cell_type": "code",
   "execution_count": 73,
   "metadata": {},
   "outputs": [
    {
     "data": {
      "text/plain": [
       "Index(['bathrooms', 'bedrooms', 'floors', 'grade', 'price', 'sqft_lot', 'view',\n",
       "       'yr_built', 'yr_renovated', 'pop_bin', 'box_cox_condition',\n",
       "       'sqrt_sqft_basement', 'sqrt_living_fraction'],\n",
       "      dtype='object')"
      ]
     },
     "execution_count": 73,
     "metadata": {},
     "output_type": "execute_result"
    }
   ],
   "source": [
    "train.columns"
   ]
  },
  {
   "cell_type": "code",
   "execution_count": 74,
   "metadata": {},
   "outputs": [],
   "source": [
    "outcome = 'price'\n",
    "x_cols = ['bathrooms', 'bedrooms', 'floors', 'grade', 'sqft_lot', 'view',\n",
    "       'yr_built', 'yr_renovated', 'pop_bin', 'box_cox_condition',\n",
    "       'sqrt_sqft_basement', 'sqrt_living_fraction']"
   ]
  },
  {
   "cell_type": "code",
   "execution_count": 75,
   "metadata": {},
   "outputs": [],
   "source": [
    "#WITHOUT INSIGNIFICANT P VALUES\n",
    "\n",
    "outcome = 'price'\n",
    "x_cols = ['bathrooms', 'bedrooms', 'grade', 'sqft_lot', 'view',\n",
    "       'yr_built', 'yr_renovated', 'pop_bin', 'box_cox_condition',\n",
    "          'sqrt_living_fraction']"
   ]
  },
  {
   "cell_type": "code",
   "execution_count": 76,
   "metadata": {},
   "outputs": [
    {
     "data": {
      "text/html": [
       "<table class=\"simpletable\">\n",
       "<caption>OLS Regression Results</caption>\n",
       "<tr>\n",
       "  <th>Dep. Variable:</th>          <td>price</td>      <th>  R-squared:         </th> <td>   0.476</td>\n",
       "</tr>\n",
       "<tr>\n",
       "  <th>Model:</th>                   <td>OLS</td>       <th>  Adj. R-squared:    </th> <td>   0.476</td>\n",
       "</tr>\n",
       "<tr>\n",
       "  <th>Method:</th>             <td>Least Squares</td>  <th>  F-statistic:       </th> <td>   1197.</td>\n",
       "</tr>\n",
       "<tr>\n",
       "  <th>Date:</th>             <td>Fri, 16 Oct 2020</td> <th>  Prob (F-statistic):</th>  <td>  0.00</td> \n",
       "</tr>\n",
       "<tr>\n",
       "  <th>Time:</th>                 <td>17:56:30</td>     <th>  Log-Likelihood:    </th> <td> -4378.0</td>\n",
       "</tr>\n",
       "<tr>\n",
       "  <th>No. Observations:</th>      <td> 10535</td>      <th>  AIC:               </th> <td>   8774.</td>\n",
       "</tr>\n",
       "<tr>\n",
       "  <th>Df Residuals:</th>          <td> 10526</td>      <th>  BIC:               </th> <td>   8839.</td>\n",
       "</tr>\n",
       "<tr>\n",
       "  <th>Df Model:</th>              <td>     8</td>      <th>                     </th>     <td> </td>   \n",
       "</tr>\n",
       "<tr>\n",
       "  <th>Covariance Type:</th>      <td>nonrobust</td>    <th>                     </th>     <td> </td>   \n",
       "</tr>\n",
       "</table>\n",
       "<table class=\"simpletable\">\n",
       "<tr>\n",
       "            <td></td>              <th>coef</th>     <th>std err</th>      <th>t</th>      <th>P>|t|</th>  <th>[0.025</th>    <th>0.975]</th>  \n",
       "</tr>\n",
       "<tr>\n",
       "  <th>Intercept</th>            <td>   -0.0122</td> <td>    0.011</td> <td>   -1.097</td> <td> 0.273</td> <td>   -0.034</td> <td>    0.010</td>\n",
       "</tr>\n",
       "<tr>\n",
       "  <th>bathrooms</th>            <td>    0.1044</td> <td>    0.007</td> <td>   15.370</td> <td> 0.000</td> <td>    0.091</td> <td>    0.118</td>\n",
       "</tr>\n",
       "<tr>\n",
       "  <th>bedrooms</th>             <td>    0.0280</td> <td>    0.005</td> <td>    5.739</td> <td> 0.000</td> <td>    0.018</td> <td>    0.038</td>\n",
       "</tr>\n",
       "<tr>\n",
       "  <th>grade</th>                <td>    0.4091</td> <td>    0.007</td> <td>   58.649</td> <td> 0.000</td> <td>    0.395</td> <td>    0.423</td>\n",
       "</tr>\n",
       "<tr>\n",
       "  <th>sqft_lot</th>             <td>    0.7872</td> <td>    0.071</td> <td>   11.116</td> <td> 0.000</td> <td>    0.648</td> <td>    0.926</td>\n",
       "</tr>\n",
       "<tr>\n",
       "  <th>view</th>                 <td>    0.0037</td> <td>    0.003</td> <td>    1.097</td> <td> 0.273</td> <td>   -0.003</td> <td>    0.010</td>\n",
       "</tr>\n",
       "<tr>\n",
       "  <th>yr_built</th>             <td>   -0.1984</td> <td>    0.006</td> <td>  -32.818</td> <td> 0.000</td> <td>   -0.210</td> <td>   -0.187</td>\n",
       "</tr>\n",
       "<tr>\n",
       "  <th>yr_renovated</th>         <td>    0.0023</td> <td>    0.002</td> <td>    1.097</td> <td> 0.273</td> <td>   -0.002</td> <td>    0.006</td>\n",
       "</tr>\n",
       "<tr>\n",
       "  <th>pop_bin</th>              <td>    0.0818</td> <td>    0.006</td> <td>   14.748</td> <td> 0.000</td> <td>    0.071</td> <td>    0.093</td>\n",
       "</tr>\n",
       "<tr>\n",
       "  <th>box_cox_condition</th>    <td>    0.0322</td> <td>    0.004</td> <td>    7.478</td> <td> 0.000</td> <td>    0.024</td> <td>    0.041</td>\n",
       "</tr>\n",
       "<tr>\n",
       "  <th>sqrt_living_fraction</th> <td>    0.1498</td> <td>    0.009</td> <td>   16.475</td> <td> 0.000</td> <td>    0.132</td> <td>    0.168</td>\n",
       "</tr>\n",
       "</table>\n",
       "<table class=\"simpletable\">\n",
       "<tr>\n",
       "  <th>Omnibus:</th>       <td>1031.537</td> <th>  Durbin-Watson:     </th> <td>   2.005</td>\n",
       "</tr>\n",
       "<tr>\n",
       "  <th>Prob(Omnibus):</th>  <td> 0.000</td>  <th>  Jarque-Bera (JB):  </th> <td>1774.963</td>\n",
       "</tr>\n",
       "<tr>\n",
       "  <th>Skew:</th>           <td> 0.692</td>  <th>  Prob(JB):          </th> <td>    0.00</td>\n",
       "</tr>\n",
       "<tr>\n",
       "  <th>Kurtosis:</th>       <td> 4.459</td>  <th>  Cond. No.          </th> <td>9.59e+16</td>\n",
       "</tr>\n",
       "</table><br/><br/>Warnings:<br/>[1] Standard Errors assume that the covariance matrix of the errors is correctly specified.<br/>[2] The smallest eigenvalue is 2.54e-30. This might indicate that there are<br/>strong multicollinearity problems or that the design matrix is singular."
      ],
      "text/plain": [
       "<class 'statsmodels.iolib.summary.Summary'>\n",
       "\"\"\"\n",
       "                            OLS Regression Results                            \n",
       "==============================================================================\n",
       "Dep. Variable:                  price   R-squared:                       0.476\n",
       "Model:                            OLS   Adj. R-squared:                  0.476\n",
       "Method:                 Least Squares   F-statistic:                     1197.\n",
       "Date:                Fri, 16 Oct 2020   Prob (F-statistic):               0.00\n",
       "Time:                        17:56:30   Log-Likelihood:                -4378.0\n",
       "No. Observations:               10535   AIC:                             8774.\n",
       "Df Residuals:                   10526   BIC:                             8839.\n",
       "Df Model:                           8                                         \n",
       "Covariance Type:            nonrobust                                         \n",
       "========================================================================================\n",
       "                           coef    std err          t      P>|t|      [0.025      0.975]\n",
       "----------------------------------------------------------------------------------------\n",
       "Intercept               -0.0122      0.011     -1.097      0.273      -0.034       0.010\n",
       "bathrooms                0.1044      0.007     15.370      0.000       0.091       0.118\n",
       "bedrooms                 0.0280      0.005      5.739      0.000       0.018       0.038\n",
       "grade                    0.4091      0.007     58.649      0.000       0.395       0.423\n",
       "sqft_lot                 0.7872      0.071     11.116      0.000       0.648       0.926\n",
       "view                     0.0037      0.003      1.097      0.273      -0.003       0.010\n",
       "yr_built                -0.1984      0.006    -32.818      0.000      -0.210      -0.187\n",
       "yr_renovated             0.0023      0.002      1.097      0.273      -0.002       0.006\n",
       "pop_bin                  0.0818      0.006     14.748      0.000       0.071       0.093\n",
       "box_cox_condition        0.0322      0.004      7.478      0.000       0.024       0.041\n",
       "sqrt_living_fraction     0.1498      0.009     16.475      0.000       0.132       0.168\n",
       "==============================================================================\n",
       "Omnibus:                     1031.537   Durbin-Watson:                   2.005\n",
       "Prob(Omnibus):                  0.000   Jarque-Bera (JB):             1774.963\n",
       "Skew:                           0.692   Prob(JB):                         0.00\n",
       "Kurtosis:                       4.459   Cond. No.                     9.59e+16\n",
       "==============================================================================\n",
       "\n",
       "Warnings:\n",
       "[1] Standard Errors assume that the covariance matrix of the errors is correctly specified.\n",
       "[2] The smallest eigenvalue is 2.54e-30. This might indicate that there are\n",
       "strong multicollinearity problems or that the design matrix is singular.\n",
       "\"\"\""
      ]
     },
     "execution_count": 76,
     "metadata": {},
     "output_type": "execute_result"
    }
   ],
   "source": [
    "predictors = '+'.join(x_cols)\n",
    "formula = outcome + '~' + predictors\n",
    "model = ols(formula=formula, data=train).fit()\n",
    "model.summary()"
   ]
  },
  {
   "cell_type": "markdown",
   "metadata": {},
   "source": [
    "# Checking for normality can be completed."
   ]
  },
  {
   "cell_type": "markdown",
   "metadata": {},
   "source": [
    "Verification of the normal distribution of model residuals.\n",
    "\n"
   ]
  },
  {
   "cell_type": "markdown",
   "metadata": {},
   "source": [
    "skewness > 0 : more weight in the left tail of the distribution."
   ]
  },
  {
   "cell_type": "markdown",
   "metadata": {},
   "source": [
    "skewness < 0 : more weight in the right tail of the distribution. "
   ]
  },
  {
   "cell_type": "code",
   "execution_count": 77,
   "metadata": {},
   "outputs": [],
   "source": [
    "import statsmodels.api as sm\n",
    "import scipy.stats as stats"
   ]
  },
  {
   "cell_type": "code",
   "execution_count": 78,
   "metadata": {},
   "outputs": [],
   "source": [
    "outcome = 'price'\n",
    "x_cols = ['bathrooms', 'bedrooms', 'floors', 'grade', 'sqft_lot', 'view',\n",
    "       'yr_built', 'yr_renovated', 'pop_bin', 'box_cox_condition',\n",
    "       'sqrt_sqft_basement', 'sqrt_living_fraction']"
   ]
  },
  {
   "cell_type": "code",
   "execution_count": 79,
   "metadata": {
    "scrolled": true
   },
   "outputs": [
    {
     "data": {
      "image/png": "[encoded data removed]",
      "text/plain": [
       "<Figure size 432x288 with 1 Axes>"
      ]
     },
     "metadata": {
      "needs_background": "light"
     },
     "output_type": "display_data"
    }
   ],
   "source": [
    "predictors = '+'.join(x_cols)\n",
    "formula = outcome + '~' + predictors\n",
    "model = ols(formula=formula, data=train).fit()\n",
    "fig = sm.graphics.qqplot(model.resid, dist=stats.norm, line='45', fit=True)"
   ]
  },
  {
   "cell_type": "code",
   "execution_count": 84,
   "metadata": {},
   "outputs": [
    {
     "data": {
      "text/plain": [
       "Index(['bathrooms', 'bedrooms', 'floors', 'grade', 'price', 'sqft_lot', 'view',\n",
       "       'yr_built', 'yr_renovated', 'pop_bin', 'box_cox_condition',\n",
       "       'sqrt_sqft_basement', 'sqrt_living_fraction'],\n",
       "      dtype='object')"
      ]
     },
     "execution_count": 84,
     "metadata": {},
     "output_type": "execute_result"
    }
   ],
   "source": [
    "train.columns"
   ]
  },
  {
   "cell_type": "code",
   "execution_count": 85,
   "metadata": {},
   "outputs": [
    {
     "data": {
      "text/plain": [
       "bathrooms               0\n",
       "bedrooms                0\n",
       "floors                  0\n",
       "grade                   0\n",
       "price                   0\n",
       "sqft_lot                0\n",
       "view                    0\n",
       "yr_built                0\n",
       "yr_renovated            0\n",
       "pop_bin                 0\n",
       "box_cox_condition       0\n",
       "sqrt_sqft_basement      0\n",
       "sqrt_living_fraction    0\n",
       "dtype: int64"
      ]
     },
     "execution_count": 85,
     "metadata": {},
     "output_type": "execute_result"
    }
   ],
   "source": [
    "train.isna().sum()"
   ]
  },
  {
   "cell_type": "code",
   "execution_count": 86,
   "metadata": {},
   "outputs": [
    {
     "data": {
      "text/plain": [
       "0.24407624603591352"
      ]
     },
     "execution_count": 86,
     "metadata": {},
     "output_type": "execute_result"
    }
   ],
   "source": [
    "train.bedrooms.skew()"
   ]
  },
  {
   "cell_type": "code",
   "execution_count": 87,
   "metadata": {},
   "outputs": [
    {
     "data": {
      "text/plain": [
       "-0.07340496595261684"
      ]
     },
     "execution_count": 87,
     "metadata": {},
     "output_type": "execute_result"
    }
   ],
   "source": [
    "train.bathrooms.skew()"
   ]
  },
  {
   "cell_type": "code",
   "execution_count": 88,
   "metadata": {},
   "outputs": [
    {
     "data": {
      "text/plain": [
       "0.7253183855441988"
      ]
     },
     "execution_count": 88,
     "metadata": {},
     "output_type": "execute_result"
    }
   ],
   "source": [
    "train.floors.skew()"
   ]
  },
  {
   "cell_type": "code",
   "execution_count": 89,
   "metadata": {},
   "outputs": [
    {
     "data": {
      "text/plain": [
       "0.337817742873914"
      ]
     },
     "execution_count": 89,
     "metadata": {},
     "output_type": "execute_result"
    }
   ],
   "source": [
    "train.grade.skew()"
   ]
  },
  {
   "cell_type": "code",
   "execution_count": 82,
   "metadata": {},
   "outputs": [],
   "source": [
    "outcome = 'price'\n",
    "x_cols = ['bathrooms', 'bedrooms', 'floors', 'grade', 'sqft_lot',\n",
    "       'yr_built', 'pop_bin']"
   ]
  },
  {
   "cell_type": "code",
   "execution_count": 90,
   "metadata": {},
   "outputs": [
    {
     "data": {
      "text/plain": [
       "1.0659653428313507"
      ]
     },
     "execution_count": 90,
     "metadata": {},
     "output_type": "execute_result"
    }
   ],
   "source": [
    "train.sqft_lot.skew()"
   ]
  },
  {
   "cell_type": "code",
   "execution_count": 83,
   "metadata": {},
   "outputs": [
    {
     "data": {
      "image/png": "[encoded data removed]",
      "text/plain": [
       "<Figure size 432x288 with 1 Axes>"
      ]
     },
     "metadata": {
      "needs_background": "light"
     },
     "output_type": "display_data"
    }
   ],
   "source": [
    "predictors = '+'.join(x_cols)\n",
    "formula = outcome + '~' + predictors\n",
    "model = ols(formula=formula, data=train).fit()\n",
    "fig = sm.graphics.qqplot(model.resid, dist=stats.norm, line='45', fit=True)"
   ]
  },
  {
   "cell_type": "code",
   "execution_count": 98,
   "metadata": {
    "scrolled": false
   },
   "outputs": [
    {
     "data": {
      "text/plain": [
       "0"
      ]
     },
     "execution_count": 98,
     "metadata": {},
     "output_type": "execute_result"
    }
   ],
   "source": [
    "train.view.skew()"
   ]
  },
  {
   "cell_type": "code",
   "execution_count": 99,
   "metadata": {},
   "outputs": [
    {
     "data": {
      "text/plain": [
       "-0.4311664116538362"
      ]
     },
     "execution_count": 99,
     "metadata": {},
     "output_type": "execute_result"
    }
   ],
   "source": [
    "train.yr_built.skew()"
   ]
  },
  {
   "cell_type": "code",
   "execution_count": 100,
   "metadata": {},
   "outputs": [
    {
     "data": {
      "text/plain": [
       "0"
      ]
     },
     "execution_count": 100,
     "metadata": {},
     "output_type": "execute_result"
    }
   ],
   "source": [
    "train.yr_renovated.skew()"
   ]
  },
  {
   "cell_type": "code",
   "execution_count": 101,
   "metadata": {},
   "outputs": [
    {
     "data": {
      "text/plain": [
       "0.3860433497160808"
      ]
     },
     "execution_count": 101,
     "metadata": {},
     "output_type": "execute_result"
    }
   ],
   "source": [
    "train.pop_bin.skew()"
   ]
  },
  {
   "cell_type": "code",
   "execution_count": 102,
   "metadata": {
    "scrolled": false
   },
   "outputs": [
    {
     "data": {
      "text/plain": [
       "0.996368266495204"
      ]
     },
     "execution_count": 102,
     "metadata": {},
     "output_type": "execute_result"
    }
   ],
   "source": [
    "train.sqrt_living_fraction.skew()"
   ]
  },
  {
   "cell_type": "code",
   "execution_count": 103,
   "metadata": {},
   "outputs": [
    {
     "data": {
      "text/plain": [
       "0.8897837296484334"
      ]
     },
     "execution_count": 103,
     "metadata": {},
     "output_type": "execute_result"
    }
   ],
   "source": [
    "train.sqrt_sqft_basement.skew()"
   ]
  },
  {
   "cell_type": "code",
   "execution_count": 104,
   "metadata": {
    "scrolled": true
   },
   "outputs": [
    {
     "data": {
      "text/plain": [
       "0.9436502835880263"
      ]
     },
     "execution_count": 104,
     "metadata": {},
     "output_type": "execute_result"
    }
   ],
   "source": [
    "train.box_cox_condition.skew()"
   ]
  },
  {
   "cell_type": "code",
   "execution_count": null,
   "metadata": {},
   "outputs": [],
   "source": []
  },
  {
   "cell_type": "code",
   "execution_count": null,
   "metadata": {
    "scrolled": true
   },
   "outputs": [],
   "source": []
  },
  {
   "cell_type": "markdown",
   "metadata": {},
   "source": [
    "### Altering the square foot basement feature into its square root reduces the skew."
   ]
  },
  {
   "cell_type": "code",
   "execution_count": null,
   "metadata": {
    "scrolled": false
   },
   "outputs": [],
   "source": [
    "#moved to cleaning doc: \n",
    "#train['sqrt_sqft_basement'] = np.sqrt(train['sqft_basement'])\n",
    "#train.sqrt_sqft_basement.skew()"
   ]
  },
  {
   "cell_type": "code",
   "execution_count": null,
   "metadata": {},
   "outputs": [],
   "source": [
    "outcome = 'price'\n",
    "x_cols = ['bathrooms', 'bedrooms', 'floors', 'grade', 'sqrt_sqft_basement',\n",
    "       'sqft_lot', 'view', 'yr_built', 'yr_renovated', 'pop_bin',\n",
    "       'box_cox_condition', 'living_fraction']"
   ]
  },
  {
   "cell_type": "code",
   "execution_count": null,
   "metadata": {
    "scrolled": true
   },
   "outputs": [],
   "source": [
    "predictors = '+'.join(x_cols)\n",
    "formula = outcome + '~' + predictors\n",
    "model = ols(formula=formula, data=train).fit()\n",
    "fig = sm.graphics.qqplot(model.resid, dist=stats.norm, line='45', fit=True)"
   ]
  },
  {
   "cell_type": "markdown",
   "metadata": {},
   "source": [
    "### Altering the living_fraction feature into its square root reduces the skew."
   ]
  },
  {
   "cell_type": "code",
   "execution_count": null,
   "metadata": {},
   "outputs": [],
   "source": [
    "#moved to cleaning page\n",
    "#train['sqrt_living_fraction'] = np.sqrt(train['living_fraction'])\n",
    "#train.sqrt_living_fraction.skew()"
   ]
  },
  {
   "cell_type": "code",
   "execution_count": null,
   "metadata": {},
   "outputs": [],
   "source": [
    "outcome = 'price'\n",
    "x_cols = ['bathrooms', 'bedrooms', 'floors', 'grade', 'sqrt_sqft_basement',\n",
    "       'sqft_lot', 'view', 'yr_built', 'yr_renovated', 'pop_bin',\n",
    "       'box_cox_condition', 'sqrt_living_fraction']"
   ]
  },
  {
   "cell_type": "code",
   "execution_count": null,
   "metadata": {},
   "outputs": [],
   "source": [
    "predictors = '+'.join(x_cols)\n",
    "formula = outcome + '~' + predictors\n",
    "model = ols(formula=formula, data=train).fit()\n",
    "fig = sm.graphics.qqplot(model.resid, dist=stats.norm, line='45', fit=True)"
   ]
  },
  {
   "cell_type": "code",
   "execution_count": null,
   "metadata": {},
   "outputs": [],
   "source": [
    "df_for_hetero = train[['bathrooms', 'bedrooms', 'floors', 'grade', 'sqrt_sqft_basement',\n",
    "       'sqft_lot', 'view', 'yr_built', 'yr_renovated', 'pop_bin',\n",
    "       'box_cox_condition', 'sqrt_living_fraction']]"
   ]
  },
  {
   "cell_type": "code",
   "execution_count": null,
   "metadata": {},
   "outputs": [],
   "source": [
    "train.isna().sum()"
   ]
  },
  {
   "cell_type": "code",
   "execution_count": null,
   "metadata": {},
   "outputs": [],
   "source": []
  },
  {
   "cell_type": "code",
   "execution_count": null,
   "metadata": {},
   "outputs": [],
   "source": []
  },
  {
   "cell_type": "code",
   "execution_count": null,
   "metadata": {},
   "outputs": [],
   "source": [
    "df_for_hetero.head()"
   ]
  },
  {
   "cell_type": "code",
   "execution_count": null,
   "metadata": {},
   "outputs": [],
   "source": []
  },
  {
   "cell_type": "code",
   "execution_count": null,
   "metadata": {},
   "outputs": [],
   "source": []
  },
  {
   "cell_type": "code",
   "execution_count": null,
   "metadata": {},
   "outputs": [],
   "source": []
  },
  {
   "cell_type": "code",
   "execution_count": null,
   "metadata": {},
   "outputs": [],
   "source": []
  },
  {
   "cell_type": "code",
   "execution_count": null,
   "metadata": {},
   "outputs": [],
   "source": []
  }
 ],
 "metadata": {
  "kernelspec": {
   "display_name": "Python 3",
   "language": "python",
   "name": "python3"
  },
  "language_info": {
   "codemirror_mode": {
    "name": "ipython",
    "version": 3
   },
   "file_extension": ".py",
   "mimetype": "text/x-python",
   "name": "python",
   "nbconvert_exporter": "python",
   "pygments_lexer": "ipython3",
   "version": "3.6.9"
  }
 },
 "nbformat": 4,
 "nbformat_minor": 4
}
